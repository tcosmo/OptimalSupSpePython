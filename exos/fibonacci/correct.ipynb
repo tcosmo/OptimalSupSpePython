{
 "cells": [
  {
   "cell_type": "markdown",
   "metadata": {},
   "source": [
    "# Fibonacci\n",
    "## Question 1\n",
    "### Récursif naïf\n",
    "Naïvement on peut implémenter `fibo_rec` comme dans `fibo_rec_naif`, mais c'est exponentiel en n.    \n",
    "En effet à chaque étape on multiplie par deux le nombre de calculs à faire mais inutilement! On va refaire beaucoup de fois les même opérations entre `fibo_rec_naif(n-1)` et `fibo_rec_naif(n-2)`.    \n",
    "Exemple pour $n=5:$\n",
    "![title](tree_fibo.png)\n",
    "\n",
    "Voir qu'il faut 3.35s (ordre de grandeur, le temps exact est différent en fonction des ordinateurs) pour calculer $F_{35}$.   \n",
    "C'est énorme (un ordinateur lambda fait environ $10^7$ opérations seconde)."
   ]
  },
  {
   "cell_type": "code",
   "execution_count": 2,
   "metadata": {
    "collapsed": true
   },
   "outputs": [],
   "source": [
    "def fibo_rec_naif(n):\n",
    "    if n <= 1:\n",
    "        return n\n",
    "    return fibo_rec_naif(n-1)+fibo_rec_naif(n-2)"
   ]
  },
  {
   "cell_type": "code",
   "execution_count": 3,
   "metadata": {
    "collapsed": false
   },
   "outputs": [
    {
     "name": "stdout",
     "output_type": "stream",
     "text": [
      "CPU times: user 3.27 s, sys: 0 ns, total: 3.27 s\n",
      "Wall time: 3.27 s\n"
     ]
    },
    {
     "data": {
      "text/plain": [
       "9227465"
      ]
     },
     "execution_count": 3,
     "metadata": {},
     "output_type": "execute_result"
    }
   ],
   "source": [
    "%%time\n",
    "fibo_rec_naif(35)"
   ]
  },
  {
   "cell_type": "markdown",
   "metadata": {},
   "source": [
    "### Récursif linéaire\n",
    "L'astuce pour se ramener à du linéaire en récursif est de renvoyer le couple $(F_{n},F_{n-1})$.\n",
    "On calcule alors $F_{35}$ en 42 microsecondes."
   ]
  },
  {
   "cell_type": "code",
   "execution_count": 7,
   "metadata": {
    "collapsed": true
   },
   "outputs": [],
   "source": [
    "def fibo_rec_aux(n):\n",
    "    if n <= 1:\n",
    "        return 1,0\n",
    "    G,H = fibo_rec_aux(n-1)\n",
    "    F = G+H\n",
    "    return F,G\n",
    "\n",
    "def fibofibo(n):\n",
    "    if n == 0:\n",
    "        return 0\n",
    "    return fibo_rec_aux(n)[0]"
   ]
  },
  {
   "cell_type": "code",
   "execution_count": 11,
   "metadata": {},
   "outputs": [
    {
     "data": {
      "text/plain": [
       "2"
      ]
     },
     "execution_count": 11,
     "metadata": {},
     "output_type": "execute_result"
    }
   ],
   "source": [
    "fibofibo(3)"
   ]
  },
  {
   "cell_type": "code",
   "execution_count": null,
   "metadata": {},
   "outputs": [],
   "source": []
  },
  {
   "cell_type": "code",
   "execution_count": null,
   "metadata": {},
   "outputs": [],
   "source": []
  },
  {
   "cell_type": "code",
   "execution_count": null,
   "metadata": {},
   "outputs": [],
   "source": []
  },
  {
   "cell_type": "code",
   "execution_count": 5,
   "metadata": {
    "collapsed": false
   },
   "outputs": [
    {
     "name": "stdout",
     "output_type": "stream",
     "text": [
      "CPU times: user 24 µs, sys: 0 ns, total: 24 µs\n",
      "Wall time: 27.7 µs\n"
     ]
    },
    {
     "data": {
      "text/plain": [
       "9227465"
      ]
     },
     "execution_count": 5,
     "metadata": {},
     "output_type": "execute_result"
    }
   ],
   "source": [
    "%%time\n",
    "fibo_rec(35)[0]"
   ]
  },
  {
   "cell_type": "markdown",
   "metadata": {},
   "source": [
    "### Itératif\n",
    "On peut calculer Fibonacci sans récursivité, avec une boucle.     \n",
    "La complexité de cette implémentation est linéaire, comme avec `fibo_rec`.   \n",
    "Cependant on peut remarquer qu'elle est plus rapide en pratique, on calcule $F_{35}$ en 8.8 microsecondes.     \n",
    "Cela est dû à la manière dont l'ordinateur traite intrinsèquement la récursivité : elle sera toujours un peu plus lente que la voie itérative mais apporte plus d'élégance dans la résolution pour beaucoup de problèmes."
   ]
  },
  {
   "cell_type": "code",
   "execution_count": 6,
   "metadata": {
    "collapsed": true
   },
   "outputs": [],
   "source": [
    "def fibo(n):\n",
    "    G,H = 1,0\n",
    "    F = n\n",
    "    for n in range(2,n+1):\n",
    "        F = G + H\n",
    "        H = G\n",
    "        G = F\n",
    "    return F"
   ]
  },
  {
   "cell_type": "code",
   "execution_count": 19,
   "metadata": {
    "collapsed": false
   },
   "outputs": [
    {
     "name": "stdout",
     "output_type": "stream",
     "text": [
      "CPU times: user 6 µs, sys: 0 ns, total: 6 µs\n",
      "Wall time: 8.34 µs\n"
     ]
    },
    {
     "data": {
      "text/plain": [
       "9227465"
      ]
     },
     "execution_count": 19,
     "metadata": {},
     "output_type": "execute_result"
    }
   ],
   "source": [
    "%%time\n",
    "fibo(35)"
   ]
  },
  {
   "cell_type": "markdown",
   "metadata": {},
   "source": [
    "## Question 2\n",
    "Voir les discussions ci dessus."
   ]
  },
  {
   "cell_type": "markdown",
   "metadata": {},
   "source": [
    "## Question 3\n",
    "`fibo_rec` VS `fibo_rec_naif`."
   ]
  },
  {
   "cell_type": "markdown",
   "metadata": {},
   "source": [
    "## Question 4\n",
    "$F_n \\sim \\frac{\\phi^n}{\\sqrt(5)}$ avec $\\phi=\\frac{1+\\sqrt{5}}{2}$ le nombre d'or.      \n",
    "C'est un exercices de suite récurrentes d'ordre 2.     \n",
    "$F_n$ s'écrit donc sur $log_2(F_n) = O(n)$ bits (composition d'équivalents avec le $log$).    \n",
    "Pour calculer $F_n$ on réalise de l'ordre de $O(n)$ sommes, chacune s'effectue en $O(n)$.    \n",
    "Le calcul de $F_n$ s'effectue donc en $O(n^2)$ du point de vue de la représentation binaire."
   ]
  },
  {
   "cell_type": "markdown",
   "metadata": {},
   "source": [
    "# License\n",
    "The MIT License (MIT)\n",
    "\n",
    "Copyright (c) 2017 Tristan Stérin pour Optimale Sup Spé\n",
    "\n",
    "Permission is hereby granted, free of charge, to any person obtaining a copy\n",
    "of this software and associated documentation files (the \"Software\"), to deal\n",
    "in the Software without restriction, including without limitation the rights\n",
    "to use, copy, modify, merge, publish, distribute, sublicense, and/or sell\n",
    "copies of the Software, and to permit persons to whom the Software is\n",
    "furnished to do so, subject to the following conditions:\n",
    "\n",
    "The above copyright notice and this permission notice shall be included in\n",
    "all copies or substantial portions of the Software.\n",
    "\n",
    "THE SOFTWARE IS PROVIDED \"AS IS\", WITHOUT WARRANTY OF ANY KIND, EXPRESS OR\n",
    "IMPLIED, INCLUDING BUT NOT LIMITED TO THE WARRANTIES OF MERCHANTABILITY,\n",
    "FITNESS FOR A PARTICULAR PURPOSE AND NONINFRINGEMENT. IN NO EVENT SHALL THE\n",
    "AUTHORS OR COPYRIGHT HOLDERS BE LIABLE FOR ANY CLAIM, DAMAGES OR OTHER\n",
    "LIABILITY, WHETHER IN AN ACTION OF CONTRACT, TORT OR OTHERWISE, ARISING FROM,\n",
    "OUT OF OR IN CONNECTION WITH THE SOFTWARE OR THE USE OR OTHER DEALINGS IN\n",
    "THE SOFTWARE."
   ]
  },
  {
   "cell_type": "code",
   "execution_count": null,
   "metadata": {
    "collapsed": true
   },
   "outputs": [],
   "source": []
  }
 ],
 "metadata": {
  "kernelspec": {
   "display_name": "Python 3",
   "language": "python",
   "name": "python3"
  },
  "language_info": {
   "codemirror_mode": {
    "name": "ipython",
    "version": 3
   },
   "file_extension": ".py",
   "mimetype": "text/x-python",
   "name": "python",
   "nbconvert_exporter": "python",
   "pygments_lexer": "ipython3",
   "version": "3.6.8"
  }
 },
 "nbformat": 4,
 "nbformat_minor": 2
}
