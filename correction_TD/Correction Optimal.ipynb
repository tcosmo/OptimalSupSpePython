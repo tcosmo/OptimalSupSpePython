{
 "cells": [
  {
   "cell_type": "markdown",
   "metadata": {},
   "source": [
    "# Avant propos\n",
    "Ce notebook contient les solutions proposées en cours pour certains des exos du TD (stage de Février)."
   ]
  },
  {
   "cell_type": "code",
   "execution_count": 1,
   "metadata": {
    "collapsed": true
   },
   "outputs": [],
   "source": [
    "import numpy as np"
   ]
  },
  {
   "cell_type": "markdown",
   "metadata": {},
   "source": [
    "# Max, Moyenne, Ecart Type"
   ]
  },
  {
   "cell_type": "code",
   "execution_count": 151,
   "metadata": {
    "collapsed": true
   },
   "outputs": [],
   "source": [
    "def random_liste(n,maxL=50):\n",
    "    '''\n",
    "        Petit utilitaire pour générer des listes aléatoirement.\n",
    "    '''\n",
    "    return list(np.random.choice(range(maxL),n))"
   ]
  },
  {
   "cell_type": "code",
   "execution_count": 10,
   "metadata": {
    "collapsed": false
   },
   "outputs": [
    {
     "name": "stdout",
     "output_type": "stream",
     "text": [
      "[12, 13, 7, 34, 29, 33, 11, 35, 20, 30, 46, 41, 47, 23, 20, 13, 17, 0, 31, 12, 26, 26, 26, 7, 31, 17, 3, 41, 1, 11]\n"
     ]
    }
   ],
   "source": [
    "maListe = random_liste(30)\n",
    "print(maListe)"
   ]
  },
  {
   "cell_type": "code",
   "execution_count": 32,
   "metadata": {
    "collapsed": true
   },
   "outputs": [],
   "source": [
    "def mon_max(l):\n",
    "    if len(l) == 0:\n",
    "        return\n",
    "    le_max = l[0]\n",
    "    for x in l:\n",
    "        if x > le_max:\n",
    "            le_max = x\n",
    "    return le_max"
   ]
  },
  {
   "cell_type": "code",
   "execution_count": 53,
   "metadata": {
    "collapsed": false
   },
   "outputs": [],
   "source": [
    "def moyenne(l):\n",
    "    if len(l) == 0:\n",
    "        return 0\n",
    "    somme = 0\n",
    "    for x in l:\n",
    "        somme += x\n",
    "    return somme / len(l)"
   ]
  },
  {
   "cell_type": "code",
   "execution_count": 39,
   "metadata": {
    "collapsed": false
   },
   "outputs": [],
   "source": [
    "def ecart_type(l):\n",
    "    la_moyenne = moyenne(l)\n",
    "    variance = moyenne([(x-la_moyenne)**2 for x in l])\n",
    "    return variance**(0.5)"
   ]
  },
  {
   "cell_type": "code",
   "execution_count": 40,
   "metadata": {
    "collapsed": false
   },
   "outputs": [
    {
     "data": {
      "text/plain": [
       "22.1"
      ]
     },
     "execution_count": 40,
     "metadata": {},
     "output_type": "execute_result"
    }
   ],
   "source": [
    "moyenne(maListe)"
   ]
  },
  {
   "cell_type": "code",
   "execution_count": 41,
   "metadata": {
    "collapsed": false
   },
   "outputs": [
    {
     "data": {
      "text/plain": [
       "13.011149065320865"
      ]
     },
     "execution_count": 41,
     "metadata": {},
     "output_type": "execute_result"
    }
   ],
   "source": [
    "ecart_type(maListe)"
   ]
  },
  {
   "cell_type": "code",
   "execution_count": 44,
   "metadata": {
    "collapsed": false
   },
   "outputs": [],
   "source": [
    "maListe_np = np.array(maListe)"
   ]
  },
  {
   "cell_type": "code",
   "execution_count": 45,
   "metadata": {
    "collapsed": false
   },
   "outputs": [
    {
     "data": {
      "text/plain": [
       "47"
      ]
     },
     "execution_count": 45,
     "metadata": {},
     "output_type": "execute_result"
    }
   ],
   "source": [
    "maListe_np.max()"
   ]
  },
  {
   "cell_type": "code",
   "execution_count": 46,
   "metadata": {
    "collapsed": false
   },
   "outputs": [
    {
     "data": {
      "text/plain": [
       "22.1"
      ]
     },
     "execution_count": 46,
     "metadata": {},
     "output_type": "execute_result"
    }
   ],
   "source": [
    "maListe_np.mean()"
   ]
  },
  {
   "cell_type": "code",
   "execution_count": 47,
   "metadata": {
    "collapsed": false
   },
   "outputs": [
    {
     "data": {
      "text/plain": [
       "13.011149065320865"
      ]
     },
     "execution_count": 47,
     "metadata": {},
     "output_type": "execute_result"
    }
   ],
   "source": [
    "maListe_np.std()"
   ]
  },
  {
   "cell_type": "markdown",
   "metadata": {},
   "source": [
    "# Rappels Récursivité"
   ]
  },
  {
   "cell_type": "markdown",
   "metadata": {},
   "source": [
    "$ U_0 = 4$     \n",
    "$ U_{n+1} = 3U_n+sin(n*tan(U_n))$    "
   ]
  },
  {
   "cell_type": "code",
   "execution_count": 58,
   "metadata": {
    "collapsed": true
   },
   "outputs": [],
   "source": [
    "def suite_u(n):\n",
    "    if n == 0:\n",
    "        return 4\n",
    "    u_prec = suite_u(n-1)\n",
    "    return 3*u_prec + np.sin((n-1)*np.tan(u_prec))"
   ]
  },
  {
   "cell_type": "code",
   "execution_count": 55,
   "metadata": {
    "collapsed": false
   },
   "outputs": [
    {
     "data": {
      "text/plain": [
       "4"
      ]
     },
     "execution_count": 55,
     "metadata": {},
     "output_type": "execute_result"
    }
   ],
   "source": [
    "suite_u(0)"
   ]
  },
  {
   "cell_type": "code",
   "execution_count": 59,
   "metadata": {
    "collapsed": false
   },
   "outputs": [
    {
     "data": {
      "text/plain": [
       "6.615321624346931e+16"
      ]
     },
     "execution_count": 59,
     "metadata": {},
     "output_type": "execute_result"
    }
   ],
   "source": [
    "suite_u(34)"
   ]
  },
  {
   "cell_type": "code",
   "execution_count": 57,
   "metadata": {
    "collapsed": false
   },
   "outputs": [
    {
     "data": {
      "text/plain": [
       "66708726798666276"
      ]
     },
     "execution_count": 57,
     "metadata": {},
     "output_type": "execute_result"
    }
   ],
   "source": [
    "4*(3**34)"
   ]
  },
  {
   "cell_type": "code",
   "execution_count": 60,
   "metadata": {
    "collapsed": true
   },
   "outputs": [],
   "source": [
    "import random as rd"
   ]
  },
  {
   "cell_type": "code",
   "execution_count": 63,
   "metadata": {
    "collapsed": true
   },
   "outputs": [],
   "source": [
    "def random_liste_bis(n,maxL=50):\n",
    "    return [int(rd.random()*maxL) for i in range(n)]"
   ]
  },
  {
   "cell_type": "code",
   "execution_count": 64,
   "metadata": {
    "collapsed": false
   },
   "outputs": [
    {
     "data": {
      "text/plain": [
       "[5, 46, 19, 45, 46, 39, 13, 38, 45, 32, 8, 38, 16, 43, 1, 44, 8, 14, 32, 5]"
      ]
     },
     "execution_count": 64,
     "metadata": {},
     "output_type": "execute_result"
    }
   ],
   "source": [
    "random_liste_bis(20)"
   ]
  },
  {
   "cell_type": "markdown",
   "metadata": {},
   "source": [
    "# Dichotomie"
   ]
  },
  {
   "cell_type": "code",
   "execution_count": 82,
   "metadata": {
    "collapsed": true
   },
   "outputs": [],
   "source": [
    "def recherche_dicho(l,x):\n",
    "    '''\n",
    "        Faussement nlog(n)\n",
    "    '''\n",
    "    if len(l) == 0:\n",
    "        return False\n",
    "    if len(l) == 1:\n",
    "        return l[0] == x\n",
    "    \n",
    "    n = len(l)\n",
    "    indice_milieu = n//2\n",
    "    elem_milieu = l[indice_milieu]\n",
    "    \n",
    "    if x == elem_milieu:\n",
    "        return True\n",
    "    \n",
    "    if x < elem_milieu:\n",
    "        return recherche_dicho(l[:indice_milieu],x)\n",
    "    \n",
    "    return recherche_dicho(l[indice_milieu+1:],x)"
   ]
  },
  {
   "cell_type": "code",
   "execution_count": 91,
   "metadata": {
    "collapsed": true
   },
   "outputs": [],
   "source": [
    "def recherche_dicho_bis(l,x,begin,end):\n",
    "    '''\n",
    "        Vrai nlog(n)\n",
    "    '''\n",
    "    if len(l) == 0:\n",
    "        return False\n",
    "    if len(l) == 1:\n",
    "        return l[0] == x\n",
    "    \n",
    "    n = end-begin\n",
    "    indice_milieu = (begin+end)//2\n",
    "    elem_milieu = l[indice_milieu]\n",
    "    \n",
    "    if x == elem_milieu:\n",
    "        return True\n",
    "    \n",
    "    if x < elem_milieu:\n",
    "        return recherche_dicho_bis(l,x,begin,indice_milieu)\n",
    "    \n",
    "    return recherche_dicho_bis(l,x,indice_milieu+1,end)"
   ]
  },
  {
   "cell_type": "code",
   "execution_count": 67,
   "metadata": {
    "collapsed": false
   },
   "outputs": [],
   "source": [
    "maListe.sort()"
   ]
  },
  {
   "cell_type": "code",
   "execution_count": 152,
   "metadata": {
    "collapsed": false
   },
   "outputs": [],
   "source": [
    "maListe = random_liste(101)\n",
    "maListe.sort()"
   ]
  },
  {
   "cell_type": "code",
   "execution_count": 154,
   "metadata": {
    "collapsed": false
   },
   "outputs": [
    {
     "name": "stdout",
     "output_type": "stream",
     "text": [
      "pas de problemes\n"
     ]
    }
   ],
   "source": [
    "for x in maListe:\n",
    "    if not recherche_dicho_bis(maListe,x,0,len(maListe)):\n",
    "        print(\"probleme\")\n",
    "print(\"pas de problemes\")"
   ]
  },
  {
   "cell_type": "markdown",
   "metadata": {},
   "source": [
    "# Tri Insertion"
   ]
  },
  {
   "cell_type": "code",
   "execution_count": 135,
   "metadata": {
    "collapsed": true
   },
   "outputs": [],
   "source": [
    "def insert_in_sorted_list(sorted_l,x):\n",
    "    indice_ou_mettre_x = len(sorted_l)\n",
    "    \n",
    "    for i in range(len(sorted_l)):\n",
    "        if sorted_l[i] > x:\n",
    "            indice_ou_mettre_x = i\n",
    "            break\n",
    "    \n",
    "    sorted_l.insert(indice_ou_mettre_x,x)"
   ]
  },
  {
   "cell_type": "code",
   "execution_count": 139,
   "metadata": {
    "collapsed": true
   },
   "outputs": [],
   "source": [
    "def insertion_sort(l):\n",
    "    sorted_l = []\n",
    "    for x in l:\n",
    "        insert_in_sorted_list(sorted_l,x)\n",
    "    return sorted_l"
   ]
  },
  {
   "cell_type": "code",
   "execution_count": 142,
   "metadata": {
    "collapsed": false
   },
   "outputs": [
    {
     "name": "stdout",
     "output_type": "stream",
     "text": [
      "[25, 22, 48, 39, 12, 35, 39, 41, 0, 40, 1, 31, 41, 45, 15, 30, 38, 23, 25, 26, 11, 34, 17, 1, 14, 45, 20, 15, 14, 25, 38, 27, 11, 35, 27, 17, 0, 2, 18, 19]\n",
      "[0, 0, 1, 1, 2, 11, 11, 12, 14, 14, 15, 15, 17, 17, 18, 19, 20, 22, 23, 25, 25, 25, 26, 27, 27, 30, 31, 34, 35, 35, 38, 38, 39, 39, 40, 41, 41, 45, 45, 48]\n"
     ]
    }
   ],
   "source": [
    "maListe = random_liste(40)\n",
    "print(maListe)\n",
    "maListe_triee = insertion_sort(maListe)\n",
    "print(maListe_triee)"
   ]
  },
  {
   "cell_type": "markdown",
   "metadata": {},
   "source": [
    "# Mediane"
   ]
  },
  {
   "cell_type": "code",
   "execution_count": 145,
   "metadata": {
    "collapsed": true
   },
   "outputs": [],
   "source": [
    "def mediane(L):\n",
    "    L_sorted = sorted(L)\n",
    "    indice_milieu = len(L_sorted)//2\n",
    "    \n",
    "    if len(L_sorted) % 2 == 1:\n",
    "        return L_sorted[indice_milieu]\n",
    "    \n",
    "    return (L_sorted[indice_milieu]+L_sorted[indice_milieu-1])/2"
   ]
  },
  {
   "cell_type": "code",
   "execution_count": 148,
   "metadata": {
    "collapsed": false
   },
   "outputs": [
    {
     "data": {
      "text/plain": [
       "5.5"
      ]
     },
     "execution_count": 148,
     "metadata": {},
     "output_type": "execute_result"
    }
   ],
   "source": [
    "l = [3,2,5,6,9,7]\n",
    "mediane(l)"
   ]
  },
  {
   "cell_type": "code",
   "execution_count": null,
   "metadata": {
    "collapsed": true
   },
   "outputs": [],
   "source": []
  },
  {
   "cell_type": "code",
   "execution_count": null,
   "metadata": {
    "collapsed": true
   },
   "outputs": [],
   "source": []
  },
  {
   "cell_type": "code",
   "execution_count": null,
   "metadata": {
    "collapsed": true
   },
   "outputs": [],
   "source": []
  },
  {
   "cell_type": "code",
   "execution_count": null,
   "metadata": {
    "collapsed": true
   },
   "outputs": [],
   "source": []
  },
  {
   "cell_type": "code",
   "execution_count": null,
   "metadata": {
    "collapsed": true
   },
   "outputs": [],
   "source": []
  },
  {
   "cell_type": "code",
   "execution_count": null,
   "metadata": {
    "collapsed": true
   },
   "outputs": [],
   "source": []
  },
  {
   "cell_type": "code",
   "execution_count": null,
   "metadata": {
    "collapsed": true
   },
   "outputs": [],
   "source": []
  },
  {
   "cell_type": "code",
   "execution_count": null,
   "metadata": {
    "collapsed": true
   },
   "outputs": [],
   "source": []
  },
  {
   "cell_type": "code",
   "execution_count": null,
   "metadata": {
    "collapsed": true
   },
   "outputs": [],
   "source": []
  }
 ],
 "metadata": {
  "kernelspec": {
   "display_name": "Python 3",
   "language": "python",
   "name": "python3"
  },
  "language_info": {
   "codemirror_mode": {
    "name": "ipython",
    "version": 3
   },
   "file_extension": ".py",
   "mimetype": "text/x-python",
   "name": "python",
   "nbconvert_exporter": "python",
   "pygments_lexer": "ipython3",
   "version": "3.6.4"
  }
 },
 "nbformat": 4,
 "nbformat_minor": 2
}
