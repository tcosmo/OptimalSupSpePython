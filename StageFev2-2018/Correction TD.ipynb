{
 "cells": [
  {
   "cell_type": "markdown",
   "metadata": {},
   "source": [
    "# Exo 1\n",
    "## \"À la main\" (sans numpy)"
   ]
  },
  {
   "cell_type": "code",
   "execution_count": 10,
   "metadata": {
    "collapsed": false
   },
   "outputs": [],
   "source": [
    "def mon_max(L):\n",
    "    if len(L) == 0:\n",
    "        return\n",
    "    \n",
    "    le_max = L[0]\n",
    "    for elem in L:\n",
    "        if elem > le_max:\n",
    "            le_max = elem\n",
    "            \n",
    "    return le_max"
   ]
  },
  {
   "cell_type": "code",
   "execution_count": 37,
   "metadata": {
    "collapsed": false
   },
   "outputs": [],
   "source": [
    "def ma_moyenne(L):\n",
    "    if len(L) == 0:\n",
    "        return\n",
    "    somme = 0\n",
    "    for elem in L:\n",
    "        somme += elem\n",
    "    \n",
    "    return somme / len(L)"
   ]
  },
  {
   "cell_type": "code",
   "execution_count": 23,
   "metadata": {
    "collapsed": false
   },
   "outputs": [],
   "source": [
    "def ecart_type(L):\n",
    "    m = ma_moyenne(L)\n",
    "    ecarts_au_carre = [(x-m)**2 for x in L]\n",
    "    return ma_moyenne(ecarts_au_carre)**(0.5)"
   ]
  },
  {
   "cell_type": "markdown",
   "metadata": {},
   "source": [
    "## Avec Numpy"
   ]
  },
  {
   "cell_type": "code",
   "execution_count": 24,
   "metadata": {
    "collapsed": false
   },
   "outputs": [],
   "source": [
    "import numpy as np"
   ]
  },
  {
   "cell_type": "code",
   "execution_count": 25,
   "metadata": {
    "collapsed": false
   },
   "outputs": [
    {
     "name": "stdout",
     "output_type": "stream",
     "text": [
      "4734 840.8333333333334 1744.1799808378596\n"
     ]
    }
   ],
   "source": [
    "L = [12,-45,283,23,4734,38]\n",
    "L_np = np.array(L)\n",
    "print(mon_max(L),ma_moyenne(L),ecart_type(L))"
   ]
  },
  {
   "cell_type": "code",
   "execution_count": 26,
   "metadata": {
    "collapsed": false
   },
   "outputs": [
    {
     "data": {
      "text/plain": [
       "4734"
      ]
     },
     "execution_count": 26,
     "metadata": {},
     "output_type": "execute_result"
    }
   ],
   "source": [
    "L_np.max()"
   ]
  },
  {
   "cell_type": "code",
   "execution_count": 27,
   "metadata": {
    "collapsed": false
   },
   "outputs": [
    {
     "data": {
      "text/plain": [
       "840.8333333333334"
      ]
     },
     "execution_count": 27,
     "metadata": {},
     "output_type": "execute_result"
    }
   ],
   "source": [
    "L_np.mean()"
   ]
  },
  {
   "cell_type": "code",
   "execution_count": 28,
   "metadata": {
    "collapsed": false
   },
   "outputs": [
    {
     "data": {
      "text/plain": [
       "1744.1799808378596"
      ]
     },
     "execution_count": 28,
     "metadata": {},
     "output_type": "execute_result"
    }
   ],
   "source": [
    "L_np.std()"
   ]
  },
  {
   "cell_type": "markdown",
   "metadata": {},
   "source": [
    "# Typage"
   ]
  },
  {
   "cell_type": "code",
   "execution_count": 38,
   "metadata": {
    "collapsed": true
   },
   "outputs": [],
   "source": [
    "x = 3"
   ]
  },
  {
   "cell_type": "code",
   "execution_count": 40,
   "metadata": {
    "collapsed": false
   },
   "outputs": [
    {
     "data": {
      "text/plain": [
       "int"
      ]
     },
     "execution_count": 40,
     "metadata": {},
     "output_type": "execute_result"
    }
   ],
   "source": [
    "type(x)"
   ]
  },
  {
   "cell_type": "markdown",
   "metadata": {},
   "source": [
    "# Récursivité"
   ]
  },
  {
   "cell_type": "markdown",
   "metadata": {},
   "source": [
    "$U_0 = 3$    \n",
    "$U_{n} = 4U_{n-1}$   \n",
    "$U_{n} = 4^n * 3$"
   ]
  },
  {
   "cell_type": "code",
   "execution_count": 56,
   "metadata": {
    "collapsed": true
   },
   "outputs": [],
   "source": [
    "def suite_U(n):\n",
    "    if n == 0:\n",
    "        return 3\n",
    "    return 4*suite_U(n-1)"
   ]
  },
  {
   "cell_type": "code",
   "execution_count": 57,
   "metadata": {
    "collapsed": false
   },
   "outputs": [
    {
     "data": {
      "text/plain": [
       "885443715538058477568"
      ]
     },
     "execution_count": 57,
     "metadata": {},
     "output_type": "execute_result"
    }
   ],
   "source": [
    "suite_U(34)"
   ]
  },
  {
   "cell_type": "markdown",
   "metadata": {},
   "source": [
    "# Dichotomie(s)"
   ]
  },
  {
   "cell_type": "code",
   "execution_count": 14,
   "metadata": {
    "collapsed": true
   },
   "outputs": [],
   "source": [
    "def dicho_rec(L,x):\n",
    "    if len(L) == 0:\n",
    "        return False\n",
    "    if len(L) == 1:\n",
    "        return x == L[0]\n",
    "    \n",
    "    indice_milieu = len(L)//2\n",
    "    \n",
    "    if L[indice_milieu] == x:\n",
    "        return True\n",
    "    elif L[indice_milieu] > x:\n",
    "        return dicho_rec(L[:indice_milieu],x)\n",
    "    else:\n",
    "        return dicho_rec(L[indice_milieu:],x)"
   ]
  },
  {
   "cell_type": "code",
   "execution_count": 32,
   "metadata": {
    "collapsed": true
   },
   "outputs": [],
   "source": [
    "def dicho_rec_mieux(L,x,debut,fin):\n",
    "    n = fin-debut\n",
    "    if n == 0:\n",
    "        return False\n",
    "    if n == 1:\n",
    "        return x == L[debut]\n",
    "    \n",
    "    indice_milieu = (debut+fin)//2\n",
    "    \n",
    "    if L[indice_milieu] == x:\n",
    "        return True\n",
    "    elif L[indice_milieu] > x:\n",
    "        return dicho_rec_mieux(L,x,debut,indice_milieu)\n",
    "    else:\n",
    "        return dicho_rec_mieux(L,x,indice_milieu,fin)"
   ]
  },
  {
   "cell_type": "code",
   "execution_count": 39,
   "metadata": {
    "collapsed": true
   },
   "outputs": [],
   "source": [
    "def dicho_iteratif(L,x):\n",
    "    if len(L) == 0:\n",
    "        return False\n",
    "    \n",
    "    debut = 0\n",
    "    fin = len(L)\n",
    "    n = fin-debut\n",
    "    \n",
    "    while n != 0:   \n",
    "        indice_milieu = (debut+fin)//2\n",
    "        \n",
    "        if L[indice_milieu] == x:\n",
    "            return True\n",
    "        elif L[indice_milieu] > x:\n",
    "            fin = indice_milieu\n",
    "        else:\n",
    "            debut = indice_milieu\n",
    "            \n",
    "        n = fin-debut\n",
    "    \n",
    "    return x == L[debut]"
   ]
  },
  {
   "cell_type": "code",
   "execution_count": 38,
   "metadata": {
    "collapsed": false
   },
   "outputs": [
    {
     "name": "stdout",
     "output_type": "stream",
     "text": [
      "OK\n"
     ]
    }
   ],
   "source": [
    "l = list(range(100))\n",
    "for x in l:\n",
    "    if not dicho_iteratif(l,x):\n",
    "        print(\"Probleme\")\n",
    "print(\"OK\")"
   ]
  },
  {
   "cell_type": "markdown",
   "metadata": {},
   "source": [
    "# Tris\n",
    "## Bubble Sort"
   ]
  },
  {
   "cell_type": "code",
   "execution_count": 40,
   "metadata": {
    "collapsed": true
   },
   "outputs": [],
   "source": [
    "def indice_min(l):\n",
    "    if len(l) == 0:\n",
    "        return -1\n",
    "    \n",
    "    le_min = l[0]\n",
    "    indice_du_min = 0\n",
    "    for i in range(len(l)):\n",
    "        if l[i] < le_min:\n",
    "            le_min = l[i]\n",
    "            indice_du_min = i\n",
    "    \n",
    "    return indice_du_min"
   ]
  },
  {
   "cell_type": "code",
   "execution_count": 62,
   "metadata": {
    "collapsed": true
   },
   "outputs": [],
   "source": [
    "def bubble_sort(l):\n",
    "    L = l[:]\n",
    "    \n",
    "    to_return = []\n",
    "    while len(L) != 0:\n",
    "        j = indice_min(L)\n",
    "        to_return.append(L[j])\n",
    "        del L[j]\n",
    "    \n",
    "    return to_return"
   ]
  },
  {
   "cell_type": "code",
   "execution_count": 64,
   "metadata": {
    "collapsed": true
   },
   "outputs": [],
   "source": [
    "import random as rd"
   ]
  },
  {
   "cell_type": "code",
   "execution_count": 65,
   "metadata": {
    "collapsed": true
   },
   "outputs": [],
   "source": [
    "def random_liste(n,maxL=50):\n",
    "    return [int(rd.random()*maxL) for i in range(n)]"
   ]
  },
  {
   "cell_type": "code",
   "execution_count": 67,
   "metadata": {
    "collapsed": false
   },
   "outputs": [
    {
     "name": "stdout",
     "output_type": "stream",
     "text": [
      "[15, 0, 9, 37, 6, 42, 44, 18, 43, 7, 10, 4, 32, 5, 33, 31, 31, 15, 0, 19, 31, 49, 7, 36, 15, 33, 15, 34, 17, 35]\n"
     ]
    }
   ],
   "source": [
    "print(random_liste(30))"
   ]
  },
  {
   "cell_type": "markdown",
   "metadata": {
    "collapsed": true
   },
   "source": [
    "## Insertion Sort"
   ]
  },
  {
   "cell_type": "code",
   "execution_count": 89,
   "metadata": {
    "collapsed": true
   },
   "outputs": [],
   "source": [
    "def insertion(l,x):\n",
    "    '''\n",
    "        On suppose que l est triée, e.g l = [7,9,10,13]\n",
    "        On veut ajouter x dans l en conservant l'ordre.\n",
    "        e.g x = 8, la fonction foit renvoyer [7,8,9,10,13]\n",
    "\n",
    "        [2,3,5] x=1 -> [1,2,3,5]\n",
    "        [2,3,5] x=4 -> [2,3,4,5]\n",
    "        [2,3,5] x=9 -> [2,3,5,9]\n",
    "        \n",
    "        [2,3,5] x=4 -> [2,3,4,5]\n",
    "    '''\n",
    "    to_return = []\n",
    "    aAjoute = False\n",
    "    for elem in l:\n",
    "        if aAjoute or elem < x:\n",
    "            to_return.append(elem)\n",
    "        else:\n",
    "            to_return.append(x)\n",
    "            to_return.append(elem)\n",
    "            aAjoute = True      \n",
    "    if not aAjoute:\n",
    "        to_return.append(x)\n",
    "            \n",
    "    return to_return"
   ]
  },
  {
   "cell_type": "code",
   "execution_count": 96,
   "metadata": {
    "collapsed": false
   },
   "outputs": [],
   "source": [
    "def tri_insertion(l):\n",
    "    L_tri = []\n",
    "    for elem in l:\n",
    "        L_tri = insertion(L_tri,elem)\n",
    "    return L_tri"
   ]
  },
  {
   "cell_type": "markdown",
   "metadata": {},
   "source": [
    "## Exo\n",
    "Coder `insertion_mieux` qui garantit un meilleur cas en O(n)"
   ]
  },
  {
   "cell_type": "markdown",
   "metadata": {},
   "source": [
    "# Tri Fusion"
   ]
  },
  {
   "cell_type": "code",
   "execution_count": 102,
   "metadata": {
    "collapsed": true
   },
   "outputs": [],
   "source": [
    "def separation(l):\n",
    "    if len(l) == 0:\n",
    "        return [],[]\n",
    "    else:\n",
    "        l1 = l[:len(l)//2]\n",
    "        l2 = l[len(l)//2:]\n",
    "        return l1,l2"
   ]
  },
  {
   "cell_type": "code",
   "execution_count": 103,
   "metadata": {
    "collapsed": true
   },
   "outputs": [],
   "source": [
    "def separation_(l):\n",
    "    if len(l) == 0:\n",
    "        return [],[]\n",
    "    \n",
    "    mil = len(l)//2\n",
    "    return l[:mil],l[mil:]"
   ]
  },
  {
   "cell_type": "code",
   "execution_count": 113,
   "metadata": {
    "collapsed": true
   },
   "outputs": [],
   "source": [
    "def fusion_rec(l1,l2):\n",
    "    \n",
    "    if len(l1)*len(l2) == 0:\n",
    "        return l1+l2\n",
    "\n",
    "    if l1[0] <= l2[0]:\n",
    "        return [l1[0]] + fusion(l1[1:],l2)\n",
    "    \n",
    "    \n",
    "    return [l2[0]] + fusion(l1,l2[1:])"
   ]
  },
  {
   "cell_type": "code",
   "execution_count": 138,
   "metadata": {
    "collapsed": true
   },
   "outputs": [],
   "source": [
    "def fusion_iter(l1,l2):\n",
    "    l_fus = [0]*(len(l1)+len(l2))\n",
    "    \n",
    "    i_l1 = 0\n",
    "    i_l2 = 0\n",
    "    \n",
    "    for i_fus in range(len(l_fus)):\n",
    "        if i_l1 == len(l1):\n",
    "            l_fus[i_fus] = l2[i_l2]\n",
    "            i_l2 += 1\n",
    "            continue\n",
    "        if i_l2 == len(l2):\n",
    "            l_fus[i_fus] = l1[i_l1]\n",
    "            i_l1 += 1\n",
    "            continue\n",
    "        \n",
    "        if l1[i_l1] <= l2[i_l2]:\n",
    "            l_fus[i_fus] = l1[i_l1]\n",
    "            i_l1 += 1\n",
    "        else:\n",
    "            l_fus[i_fus] = l2[i_l2]\n",
    "            i_l2 += 1\n",
    "    \n",
    "    return l_fus"
   ]
  },
  {
   "cell_type": "code",
   "execution_count": 140,
   "metadata": {
    "collapsed": false
   },
   "outputs": [],
   "source": [
    "def tri_fusion(l):\n",
    "    if len(l) <= 1:\n",
    "        return l\n",
    "    \n",
    "    l1,l2 = separation(l)\n",
    "    \n",
    "    return fusion(tri_fusion(l1),tri_fusion(l2))"
   ]
  },
  {
   "cell_type": "markdown",
   "metadata": {},
   "source": [
    "# Numpy"
   ]
  },
  {
   "cell_type": "code",
   "execution_count": 144,
   "metadata": {
    "collapsed": true
   },
   "outputs": [],
   "source": [
    "import numpy as np"
   ]
  },
  {
   "cell_type": "markdown",
   "metadata": {},
   "source": [
    "## Initialiser un vecteur/matrice\n",
    "### Mettre des zeros"
   ]
  },
  {
   "cell_type": "code",
   "execution_count": 145,
   "metadata": {
    "collapsed": false
   },
   "outputs": [
    {
     "data": {
      "text/plain": [
       "array([[0., 0., 0., 0.],\n",
       "       [0., 0., 0., 0.],\n",
       "       [0., 0., 0., 0.],\n",
       "       [0., 0., 0., 0.],\n",
       "       [0., 0., 0., 0.],\n",
       "       [0., 0., 0., 0.],\n",
       "       [0., 0., 0., 0.]])"
      ]
     },
     "execution_count": 145,
     "metadata": {},
     "output_type": "execute_result"
    }
   ],
   "source": [
    "np.zeros((7,4))"
   ]
  },
  {
   "cell_type": "code",
   "execution_count": 146,
   "metadata": {
    "collapsed": false
   },
   "outputs": [
    {
     "data": {
      "text/plain": [
       "array([0., 0., 0., 0., 0., 0., 0., 0.])"
      ]
     },
     "execution_count": 146,
     "metadata": {},
     "output_type": "execute_result"
    }
   ],
   "source": [
    "np.zeros(8)"
   ]
  },
  {
   "cell_type": "markdown",
   "metadata": {},
   "source": [
    "### Mettre des 1"
   ]
  },
  {
   "cell_type": "code",
   "execution_count": 147,
   "metadata": {
    "collapsed": false
   },
   "outputs": [
    {
     "data": {
      "text/plain": [
       "array([[1., 1., 1., 1.],\n",
       "       [1., 1., 1., 1.],\n",
       "       [1., 1., 1., 1.],\n",
       "       [1., 1., 1., 1.],\n",
       "       [1., 1., 1., 1.],\n",
       "       [1., 1., 1., 1.],\n",
       "       [1., 1., 1., 1.]])"
      ]
     },
     "execution_count": 147,
     "metadata": {},
     "output_type": "execute_result"
    }
   ],
   "source": [
    "np.ones((7,4))"
   ]
  },
  {
   "cell_type": "code",
   "execution_count": 148,
   "metadata": {
    "collapsed": false
   },
   "outputs": [
    {
     "data": {
      "text/plain": [
       "array([1.])"
      ]
     },
     "execution_count": 148,
     "metadata": {},
     "output_type": "execute_result"
    }
   ],
   "source": [
    "np.ones(1)"
   ]
  },
  {
   "cell_type": "markdown",
   "metadata": {},
   "source": [
    "### Mettre du random"
   ]
  },
  {
   "cell_type": "code",
   "execution_count": 151,
   "metadata": {
    "collapsed": false
   },
   "outputs": [
    {
     "data": {
      "text/plain": [
       "array([[0.28943757, 0.41693439, 0.73181116, 0.45687188],\n",
       "       [0.39152782, 0.05882526, 0.85020582, 0.22388798],\n",
       "       [0.69557676, 0.99169824, 0.33208988, 0.63838211],\n",
       "       [0.26697228, 0.82634993, 0.66758537, 0.30495822],\n",
       "       [0.614341  , 0.16007191, 0.78832302, 0.4243578 ],\n",
       "       [0.91004517, 0.85987598, 0.68849388, 0.85191013],\n",
       "       [0.3743268 , 0.94005762, 0.98895641, 0.16461471]])"
      ]
     },
     "execution_count": 151,
     "metadata": {},
     "output_type": "execute_result"
    }
   ],
   "source": [
    "np.random.random((7,4))"
   ]
  },
  {
   "cell_type": "code",
   "execution_count": 157,
   "metadata": {
    "collapsed": false
   },
   "outputs": [
    {
     "data": {
      "text/plain": [
       "77"
      ]
     },
     "execution_count": 157,
     "metadata": {},
     "output_type": "execute_result"
    }
   ],
   "source": [
    "np.random.randint(100)"
   ]
  },
  {
   "cell_type": "code",
   "execution_count": 158,
   "metadata": {
    "collapsed": false
   },
   "outputs": [
    {
     "data": {
      "text/plain": [
       "108"
      ]
     },
     "execution_count": 158,
     "metadata": {},
     "output_type": "execute_result"
    }
   ],
   "source": [
    "np.random.randint(100,200)"
   ]
  },
  {
   "cell_type": "code",
   "execution_count": 159,
   "metadata": {
    "collapsed": false
   },
   "outputs": [
    {
     "data": {
      "text/plain": [
       "array([[103, 199, 111, 116, 114],\n",
       "       [154, 132, 110, 154, 165],\n",
       "       [116, 169, 104, 162, 196],\n",
       "       [142, 199, 194, 164, 126],\n",
       "       [192, 178, 195, 102, 160]])"
      ]
     },
     "execution_count": 159,
     "metadata": {},
     "output_type": "execute_result"
    }
   ],
   "source": [
    "np.random.randint(100,200,size=(5,5))"
   ]
  },
  {
   "cell_type": "code",
   "execution_count": 163,
   "metadata": {
    "collapsed": false
   },
   "outputs": [
    {
     "data": {
      "text/plain": [
       "array([142, 164, 158, 154, 164])"
      ]
     },
     "execution_count": 163,
     "metadata": {},
     "output_type": "execute_result"
    }
   ],
   "source": [
    "np.random.randint(100,200,size=(5,))"
   ]
  },
  {
   "cell_type": "markdown",
   "metadata": {},
   "source": [
    "### Matrice identité"
   ]
  },
  {
   "cell_type": "code",
   "execution_count": 149,
   "metadata": {
    "collapsed": false
   },
   "outputs": [
    {
     "data": {
      "text/plain": [
       "array([[1., 0., 0., 0., 0.],\n",
       "       [0., 1., 0., 0., 0.],\n",
       "       [0., 0., 1., 0., 0.],\n",
       "       [0., 0., 0., 1., 0.],\n",
       "       [0., 0., 0., 0., 1.]])"
      ]
     },
     "execution_count": 149,
     "metadata": {},
     "output_type": "execute_result"
    }
   ],
   "source": [
    "np.eye(5)"
   ]
  },
  {
   "cell_type": "markdown",
   "metadata": {},
   "source": [
    "## Utiliser les vecteurs/matrices\n",
    "### Parcours/slice"
   ]
  },
  {
   "cell_type": "code",
   "execution_count": 185,
   "metadata": {
    "collapsed": false
   },
   "outputs": [
    {
     "data": {
      "text/plain": [
       "array([[0.24111535, 0.70248718, 0.18048965, 0.96745059],\n",
       "       [0.3951099 , 0.35407242, 0.36624843, 0.35579156],\n",
       "       [0.90338433, 0.27805384, 0.70392084, 0.4579033 ],\n",
       "       [0.46522716, 0.48641929, 0.26490003, 0.15175748],\n",
       "       [0.47649829, 0.39257726, 0.39779494, 0.58517225],\n",
       "       [0.76594623, 0.41409602, 0.92518834, 0.8577831 ],\n",
       "       [0.4964775 , 0.09707978, 0.79315511, 0.64840028]])"
      ]
     },
     "execution_count": 185,
     "metadata": {},
     "output_type": "execute_result"
    }
   ],
   "source": [
    "M = np.random.random((7,4))\n",
    "M"
   ]
  },
  {
   "cell_type": "code",
   "execution_count": 165,
   "metadata": {
    "collapsed": false
   },
   "outputs": [
    {
     "name": "stdout",
     "output_type": "stream",
     "text": [
      "0.18796312578036423\n",
      "0.24301668823189848\n",
      "0.9334375701912624\n",
      "0.11373578997693834\n",
      "0.2983817108196418\n",
      "0.7967282433121686\n",
      "0.015934444504353773\n",
      "0.006318510797012511\n",
      "0.0946340273296945\n",
      "0.05591013898979269\n",
      "0.25215535416393076\n",
      "0.828961570800541\n",
      "0.4975480477399411\n",
      "0.8031533175890717\n",
      "0.7880647942004727\n",
      "0.21103999532682238\n",
      "0.5975529615796359\n",
      "0.41332967275698707\n",
      "0.9093533748985014\n",
      "0.40094141580746745\n",
      "0.27175863097788855\n",
      "0.8582258112202015\n",
      "0.9567936942520076\n",
      "0.9100807530864675\n",
      "0.44186911204144297\n",
      "0.6480094841520047\n",
      "0.7002012831172681\n",
      "0.7114940676040934\n"
     ]
    }
   ],
   "source": [
    "for i in range(M.shape[0]):\n",
    "    for j in range(M.shape[1]):\n",
    "        print(M[i,j])"
   ]
  },
  {
   "cell_type": "code",
   "execution_count": 166,
   "metadata": {
    "collapsed": false
   },
   "outputs": [
    {
     "data": {
      "text/plain": [
       "array([[0.18796313, 0.24301669, 0.93343757, 0.11373579],\n",
       "       [0.29838171, 0.79672824, 0.01593444, 0.00631851],\n",
       "       [0.09463403, 0.05591014, 0.25215535, 0.82896157],\n",
       "       [0.49754805, 0.80315332, 0.78806479, 0.21104   ],\n",
       "       [0.59755296, 0.41332967, 0.90935337, 0.40094142],\n",
       "       [0.27175863, 0.85822581, 0.95679369, 0.91008075],\n",
       "       [0.44186911, 0.64800948, 0.70020128, 0.71149407]])"
      ]
     },
     "execution_count": 166,
     "metadata": {},
     "output_type": "execute_result"
    }
   ],
   "source": [
    "M"
   ]
  },
  {
   "cell_type": "code",
   "execution_count": 167,
   "metadata": {
    "collapsed": false
   },
   "outputs": [
    {
     "data": {
      "text/plain": [
       "array([[0.01593444, 0.00631851],\n",
       "       [0.25215535, 0.82896157],\n",
       "       [0.78806479, 0.21104   ],\n",
       "       [0.90935337, 0.40094142],\n",
       "       [0.95679369, 0.91008075],\n",
       "       [0.70020128, 0.71149407]])"
      ]
     },
     "execution_count": 167,
     "metadata": {},
     "output_type": "execute_result"
    }
   ],
   "source": [
    "M[1:,2:]"
   ]
  },
  {
   "cell_type": "markdown",
   "metadata": {},
   "source": [
    "### Algèbre linéaire"
   ]
  },
  {
   "cell_type": "code",
   "execution_count": 168,
   "metadata": {
    "collapsed": false
   },
   "outputs": [
    {
     "data": {
      "text/plain": [
       "array([[0.18796313, 0.24301669, 0.93343757, 0.11373579],\n",
       "       [0.29838171, 0.79672824, 0.01593444, 0.00631851],\n",
       "       [0.09463403, 0.05591014, 0.25215535, 0.82896157],\n",
       "       [0.49754805, 0.80315332, 0.78806479, 0.21104   ],\n",
       "       [0.59755296, 0.41332967, 0.90935337, 0.40094142],\n",
       "       [0.27175863, 0.85822581, 0.95679369, 0.91008075],\n",
       "       [0.44186911, 0.64800948, 0.70020128, 0.71149407]])"
      ]
     },
     "execution_count": 168,
     "metadata": {},
     "output_type": "execute_result"
    }
   ],
   "source": [
    "M"
   ]
  },
  {
   "cell_type": "code",
   "execution_count": 169,
   "metadata": {
    "collapsed": false
   },
   "outputs": [
    {
     "data": {
      "text/plain": [
       "(7, 4)"
      ]
     },
     "execution_count": 169,
     "metadata": {},
     "output_type": "execute_result"
    }
   ],
   "source": [
    "M.shape"
   ]
  },
  {
   "cell_type": "code",
   "execution_count": 170,
   "metadata": {
    "collapsed": false
   },
   "outputs": [
    {
     "data": {
      "text/plain": [
       "array([[4.36142815e-01, 3.88641560e-01, 2.93234203e-01, 5.01308664e-01,\n",
       "        6.34209884e-01, 5.55249790e-01, 6.50509904e-01, 5.49163333e-01,\n",
       "        4.80575731e-01, 1.00904572e-01, 2.49786750e-01, 6.43415998e-01,\n",
       "        6.72432980e-01, 4.25494678e-01, 1.80512431e-01, 4.76665246e-01,\n",
       "        7.85905252e-01, 7.36623228e-01, 9.11827554e-01, 6.54242926e-01,\n",
       "        8.63526710e-02, 5.18164720e-01],\n",
       "       [3.39058800e-01, 2.88537057e-01, 6.59537169e-01, 3.44275166e-01,\n",
       "        4.00283539e-01, 6.14625443e-01, 7.16463128e-01, 5.91319823e-04,\n",
       "        8.72659964e-01, 8.28925586e-01, 5.96172771e-01, 9.00785502e-01,\n",
       "        5.04314781e-01, 9.17302308e-01, 4.47737645e-01, 4.91794864e-01,\n",
       "        8.40971710e-01, 6.35278123e-01, 5.16339611e-03, 7.05536907e-01,\n",
       "        3.40156874e-01, 6.48041881e-01],\n",
       "       [4.00192273e-02, 3.93372350e-01, 1.93750577e-01, 8.99717030e-01,\n",
       "        7.82356936e-01, 8.09776750e-01, 4.91724168e-02, 2.16883007e-01,\n",
       "        3.47519929e-01, 1.00107913e-02, 7.03993611e-01, 4.41083287e-01,\n",
       "        4.14545276e-01, 8.84211511e-01, 6.84654597e-01, 6.99603915e-01,\n",
       "        8.44925396e-01, 8.60348407e-01, 1.72472169e-01, 3.75323494e-01,\n",
       "        4.02848952e-01, 3.58076523e-01],\n",
       "       [9.81395304e-01, 5.51254189e-01, 5.61770183e-01, 8.58039822e-01,\n",
       "        3.58612838e-01, 9.91038307e-01, 4.05790008e-01, 8.37959579e-01,\n",
       "        1.71034178e-01, 6.41389330e-01, 3.32460429e-01, 6.00138424e-01,\n",
       "        5.38856876e-01, 5.08955437e-01, 6.44072587e-02, 3.01905940e-01,\n",
       "        5.61096598e-01, 6.96863840e-01, 2.20799383e-01, 8.68609349e-01,\n",
       "        3.86612806e-01, 6.97515599e-01]])"
      ]
     },
     "execution_count": 170,
     "metadata": {},
     "output_type": "execute_result"
    }
   ],
   "source": [
    "P = np.random.random((4,22))\n",
    "P"
   ]
  },
  {
   "cell_type": "markdown",
   "metadata": {},
   "source": [
    "#### Produit Matriciel"
   ]
  },
  {
   "cell_type": "code",
   "execution_count": 172,
   "metadata": {
    "collapsed": false
   },
   "outputs": [
    {
     "data": {
      "text/plain": [
       "(7, 22)"
      ]
     },
     "execution_count": 172,
     "metadata": {},
     "output_type": "execute_result"
    }
   ],
   "source": [
    "M.dot(P).shape"
   ]
  },
  {
   "cell_type": "markdown",
   "metadata": {},
   "source": [
    "#### Inversion"
   ]
  },
  {
   "cell_type": "code",
   "execution_count": 188,
   "metadata": {
    "collapsed": true
   },
   "outputs": [],
   "source": [
    "M = np.random.randint(100,size=(4,7))"
   ]
  },
  {
   "cell_type": "code",
   "execution_count": 189,
   "metadata": {
    "collapsed": false
   },
   "outputs": [
    {
     "data": {
      "text/plain": [
       "(7, 4)"
      ]
     },
     "execution_count": 189,
     "metadata": {},
     "output_type": "execute_result"
    }
   ],
   "source": [
    "M.T.shape"
   ]
  },
  {
   "cell_type": "code",
   "execution_count": 190,
   "metadata": {
    "collapsed": false
   },
   "outputs": [
    {
     "data": {
      "text/plain": [
       "(4, 4)"
      ]
     },
     "execution_count": 190,
     "metadata": {},
     "output_type": "execute_result"
    }
   ],
   "source": [
    "MMT = M.dot(M.T)\n",
    "MMT.shape"
   ]
  },
  {
   "cell_type": "code",
   "execution_count": 191,
   "metadata": {
    "collapsed": false
   },
   "outputs": [
    {
     "data": {
      "text/plain": [
       "array([[ 1.00000000e+00, -8.88178420e-16, -8.88178420e-16,\n",
       "        -8.88178420e-16],\n",
       "       [ 0.00000000e+00,  1.00000000e+00,  4.44089210e-16,\n",
       "         0.00000000e+00],\n",
       "       [ 0.00000000e+00, -8.88178420e-16,  1.00000000e+00,\n",
       "         0.00000000e+00],\n",
       "       [ 1.77635684e-15,  1.77635684e-15,  0.00000000e+00,\n",
       "         1.00000000e+00]])"
      ]
     },
     "execution_count": 191,
     "metadata": {},
     "output_type": "execute_result"
    }
   ],
   "source": [
    "(np.linalg.inv(MMT)).dot(MMT)"
   ]
  },
  {
   "cell_type": "markdown",
   "metadata": {},
   "source": [
    "# Images"
   ]
  },
  {
   "cell_type": "code",
   "execution_count": 201,
   "metadata": {
    "collapsed": false
   },
   "outputs": [],
   "source": [
    "import matplotlib.pyplot as plt"
   ]
  },
  {
   "cell_type": "code",
   "execution_count": 214,
   "metadata": {
    "collapsed": false
   },
   "outputs": [],
   "source": [
    "im = np.random.random((200,100,3))"
   ]
  },
  {
   "cell_type": "code",
   "execution_count": 215,
   "metadata": {
    "collapsed": false,
    "scrolled": true
   },
   "outputs": [
    {
     "data": {
      "image/png": "[encoded data removed]",
      "text/plain": [
       "<matplotlib.figure.Figure at 0x7fa08c1efa58>"
      ]
     },
     "metadata": {},
     "output_type": "display_data"
    }
   ],
   "source": [
    "plt.figure(figsize=(10,100))\n",
    "plt.imshow(im)\n",
    "plt.show()"
   ]
  },
  {
   "cell_type": "markdown",
   "metadata": {},
   "source": [
    "# Méthode de Newton"
   ]
  },
  {
   "cell_type": "code",
   "execution_count": 268,
   "metadata": {
    "collapsed": true
   },
   "outputs": [],
   "source": [
    "def f(x):\n",
    "    return x**2-1"
   ]
  },
  {
   "cell_type": "code",
   "execution_count": 269,
   "metadata": {
    "collapsed": true
   },
   "outputs": [],
   "source": [
    "def fp(x):\n",
    "    return 2*x"
   ]
  },
  {
   "cell_type": "code",
   "execution_count": 270,
   "metadata": {
    "collapsed": true
   },
   "outputs": [],
   "source": [
    "def newton(f,fp,x0,epsilon=1e-8):\n",
    "    l_x = []\n",
    "    \n",
    "    xn = x0\n",
    "    \n",
    "    while True:\n",
    "        l_x.append(xn)\n",
    "        \n",
    "        xn_ancien = xn\n",
    "        xn = xn - f(xn)/fp(xn)\n",
    "\n",
    "        if abs(xn-xn_ancien) <= epsilon:\n",
    "            break\n",
    "        \n",
    "    return l_x"
   ]
  },
  {
   "cell_type": "code",
   "execution_count": 274,
   "metadata": {
    "collapsed": false
   },
   "outputs": [
    {
     "data": {
      "text/plain": [
       "[5.3,\n",
       " 2.744339622641509,\n",
       " 1.5543630048580526,\n",
       " 1.0988566828323716,\n",
       " 1.00444673263279,\n",
       " 1.0000098429466018,\n",
       " 1.0000000000484413]"
      ]
     },
     "execution_count": 274,
     "metadata": {},
     "output_type": "execute_result"
    }
   ],
   "source": [
    "iteres_newton = newton(f,fp,5.3)\n",
    "iteres_newton"
   ]
  },
  {
   "cell_type": "code",
   "execution_count": 281,
   "metadata": {
    "collapsed": false
   },
   "outputs": [
    {
     "data": {
      "image/png": "[encoded data removed]",
      "text/plain": [
       "<matplotlib.figure.Figure at 0x7fa08dc15630>"
      ]
     },
     "metadata": {},
     "output_type": "display_data"
    }
   ],
   "source": [
    "plt.figure(figsize=(10,10))\n",
    "x_range = np.linspace(-5,5,1000)\n",
    "y = [f(x) for x in x_range]\n",
    "plt.plot(x_range,y)\n",
    "plt.plot(x_range,np.zeros(x_range.shape[0]))\n",
    "\n",
    "for i,x in enumerate(iteres_newton):\n",
    "    plt.plot(x_range,[fp(x)*(xx-x)+f(x) for xx in x_range],label=\"x_\"+str(i+1))\n",
    "\n",
    "plt.title(\"La méthode de Newton!!!\")\n",
    "plt.legend()\n",
    "\n",
    "plt.show()"
   ]
  }
 ],
 "metadata": {
  "kernelspec": {
   "display_name": "Python 3",
   "language": "python",
   "name": "python3"
  },
  "language_info": {
   "codemirror_mode": {
    "name": "ipython",
    "version": 3
   },
   "file_extension": ".py",
   "mimetype": "text/x-python",
   "name": "python",
   "nbconvert_exporter": "python",
   "pygments_lexer": "ipython3",
   "version": "3.6.4"
  }
 },
 "nbformat": 4,
 "nbformat_minor": 2
}
