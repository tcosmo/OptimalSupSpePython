{
 "cells": [
  {
   "cell_type": "markdown",
   "metadata": {},
   "source": [
    "# Informatique - B - XELCR - 2017\n",
    "Correction proposée par Tristan Sterin.     \n",
    "Ce sujet introduit la notion de \"Quad Tree\" https://en.wikipedia.org/wiki/Quadtree, une structure de donnée pensée pour manipuler efficacement de gros ensembles de points."
   ]
  },
  {
   "cell_type": "markdown",
   "metadata": {
    "collapsed": true
   },
   "source": [
    "# Question 1\n",
    "Attention, parmi les outils que le sujet nous autorise à utiliser sur les listes il n'y a pas l'égalité de deux listes. Comme cela va nous être utile dès la Q1 on la code comme fonction auxiliaire. Il faut le préciser sur sa copie le jour du concours."
   ]
  },
  {
   "cell_type": "code",
   "execution_count": 1,
   "metadata": {
    "collapsed": true
   },
   "outputs": [],
   "source": [
    "def listes_egales(l1,l2):\n",
    "    if len(l1) != len(l2):\n",
    "        return False\n",
    "    \n",
    "    for i in range(len(l1)):\n",
    "        if l1[i] != l2[i]:\n",
    "            return False\n",
    "        \n",
    "    return True"
   ]
  },
  {
   "cell_type": "markdown",
   "metadata": {},
   "source": [
    "De même, ci dessous pas le droit d'utiliser le mot clef `in` qui résoudrait la question en une ligne."
   ]
  },
  {
   "cell_type": "code",
   "execution_count": 2,
   "metadata": {
    "collapsed": true
   },
   "outputs": [],
   "source": [
    "def membre(p,q):\n",
    "    for elem in q:\n",
    "        if listes_egales(p,elem):\n",
    "            return True\n",
    "    return False"
   ]
  },
  {
   "cell_type": "code",
   "execution_count": 5,
   "metadata": {
    "collapsed": false
   },
   "outputs": [
    {
     "data": {
      "text/plain": [
       "True"
      ]
     },
     "execution_count": 5,
     "metadata": {},
     "output_type": "execute_result"
    }
   ],
   "source": [
    "membre([0,1],[[0,0],[3,0],[0,1]])"
   ]
  },
  {
   "cell_type": "markdown",
   "metadata": {},
   "source": [
    "# Question 2\n",
    "Attention, dans la question d'avant `p` est un point (i.e une liste deux cooronnées), ici c'est une liste de points."
   ]
  },
  {
   "cell_type": "code",
   "execution_count": 3,
   "metadata": {
    "collapsed": true
   },
   "outputs": [],
   "source": [
    "def intersection(p,q):\n",
    "    resultat = []\n",
    "    for elem in p:\n",
    "        if membre(elem,q):\n",
    "            resultat.append(elem)\n",
    "    return resultat"
   ]
  },
  {
   "cell_type": "code",
   "execution_count": 4,
   "metadata": {
    "collapsed": false
   },
   "outputs": [
    {
     "data": {
      "text/plain": [
       "[[0, 1]]"
      ]
     },
     "execution_count": 4,
     "metadata": {},
     "output_type": "execute_result"
    }
   ],
   "source": [
    "intersection([[1,2],[0,1]],[[0,0],[0,1]])"
   ]
  },
  {
   "cell_type": "markdown",
   "metadata": {},
   "source": [
    "# Question 3\n",
    "La complexité de la fonction `intersection` est en O(len(p)len(q)).   \n",
    "En effet, elle appelle la fonction membre len(p) fois sur la liste q. Et la fonction membre s'éxécute en O(len(q))."
   ]
  },
  {
   "cell_type": "markdown",
   "metadata": {},
   "source": [
    "# Question 7\n",
    "- 1 est représenté par `001` sur trois bits.   \n",
    "- 6 est représenté par `110` sur trois bits.\n",
    "\n",
    "L'entrelacement binaire de ces deux nombres est `010110`.     \n",
    "Le codage de Lebesgue du point (1,6) est donc donné par `112`.    \n",
    "Ce que l'on représentera par la liste `[1,1,2]` en python."
   ]
  },
  {
   "cell_type": "markdown",
   "metadata": {},
   "source": [
    "# Question 8\n",
    "Le sujet ne demande pas de coder la fonction `bits(x,k)`, on le fait néanmoins pour tester le code dans ce qui suit."
   ]
  },
  {
   "cell_type": "code",
   "execution_count": 6,
   "metadata": {
    "collapsed": true
   },
   "outputs": [],
   "source": [
    "def bits(x,k):\n",
    "    while k != 0:\n",
    "        x //= 2\n",
    "        k -= 1\n",
    "    return x%2"
   ]
  },
  {
   "cell_type": "code",
   "execution_count": 7,
   "metadata": {
    "collapsed": false
   },
   "outputs": [
    {
     "name": "stdout",
     "output_type": "stream",
     "text": [
      "0 1 1\n"
     ]
    }
   ],
   "source": [
    "print(bits(6,0),bits(6,1),bits(6,2))"
   ]
  },
  {
   "cell_type": "markdown",
   "metadata": {},
   "source": [
    "**Attention: ** Bien faire attention à identifier qui est le bit de poids fort et qui est le bit de poids faible pour le codage de Lebesgue (dernière ligne de la fonction code). Faire aussi attention que, tel que définie dans le sujet la fonction `bits` énumère les bits depuis celui de poids faible alors que l'écriture standard de gauche à droite commence par celui de poids fort."
   ]
  },
  {
   "cell_type": "code",
   "execution_count": 8,
   "metadata": {
    "collapsed": true
   },
   "outputs": [],
   "source": [
    "def code(n,p):\n",
    "    bits_p0 = [bits(p[0],n-k-1) for k in range(n)]\n",
    "    bits_p1 = [bits(p[1],n-k-1) for k in range(n)]\n",
    "    \n",
    "    return [2*bits_p0[i] + bits_p1[i] for i in range(n)]"
   ]
  },
  {
   "cell_type": "code",
   "execution_count": 10,
   "metadata": {
    "collapsed": false
   },
   "outputs": [
    {
     "name": "stdout",
     "output_type": "stream",
     "text": [
      "[1, 1, 2] [2, 3, 1]\n"
     ]
    }
   ],
   "source": [
    "print(code(3,[1,6]),code(3,[6,3]))"
   ]
  },
  {
   "cell_type": "markdown",
   "metadata": {},
   "source": [
    "# Question 9\n",
    "**Important:** se souvenir de ce qu'est l'ordre lexicographique (celui du dictionnaire). Personne ne veut s'embrouiller les pinceaux avec la définition formelle présente dans le sujet le jour du concours. Cette notion est très générale et peut revenir dans un autre contexte à n'importe quel concours.    \n",
    "\n",
    "La réponse est:   \n",
    "`000 < 012 < 101 < 233 < 311`"
   ]
  },
  {
   "cell_type": "markdown",
   "metadata": {},
   "source": [
    "# Question 10\n",
    "À savoir refaire, très général."
   ]
  },
  {
   "cell_type": "code",
   "execution_count": 12,
   "metadata": {
    "collapsed": true
   },
   "outputs": [],
   "source": [
    "def compare_pcodes(n,c1,c2):\n",
    "    for i in range(len(c1)):\n",
    "        if c1[i] < c2[i]:\n",
    "            return 1\n",
    "        if c1[i] > c2[i]:\n",
    "            return -1\n",
    "    return 0"
   ]
  },
  {
   "cell_type": "code",
   "execution_count": 13,
   "metadata": {
    "collapsed": false
   },
   "outputs": [
    {
     "data": {
      "text/plain": [
       "1"
      ]
     },
     "execution_count": 13,
     "metadata": {},
     "output_type": "execute_result"
    }
   ],
   "source": [
    "compare_pcodes(3,[0,1,2],[2,3,3])"
   ]
  },
  {
   "cell_type": "markdown",
   "metadata": {},
   "source": [
    "# Question 11\n",
    "**Erreur d'énoncé:** il faut enlever le mot \"compacté\" de la question qui n'a pas encore été défini. Cela sera demandé en question 12.\n",
    "\n",
    "Cette question est là pour s'assurer que le candidat a compris l'intuition du codage de Lebesgue: le `k`-ième digit d'un code de Lebesgue donne le numéro du sous-quadrant d'ordre à `k` où il faut regarder pour continuer à chercher le point. Par exemple le codage `03210` nous dit de d'abord regarder dans le quadrant `0`, puis, dans le quadrant `0` de regarder dans le sous-quadrant `3`, puis dans le sous-sous-quadrant `2` etc...    \n",
    "Ce sont des poupées russes!   \n",
    "Avec cette idée en tête on répond efficacement à la question en dessinant la grille `4x4` et en voyant dans quel quadrant il faut successivement regarder pour trouver le point. Cela donne:     \n",
    "- `(0,0) -> 00`    \n",
    "- `(3,3) -> 33`\n",
    "- `(3,2) -> 32`   \n",
    "- `(1,1) -> 03`\n",
    "- `(1,2) -> 12`    \n",
    "- `(2,2) -> 30`\n",
    "- `(2,3) -> 31`\n",
    "\n",
    "Donc, après tri lexicographique:    \n",
    "`00 03 12 30 31 32 33`   "
   ]
  },
  {
   "cell_type": "markdown",
   "metadata": {},
   "source": [
    "# Question 12\n",
    "On se rend compte que d'avoir `30 31 32 33` veut dire que l'on a tous les points du quadrant `3`. \n",
    "Cela sera compacté en `34`. L'AQL est donc:     \n",
    "`[[0,0],[0,3],[1,2],[3,4]]`"
   ]
  },
  {
   "cell_type": "markdown",
   "metadata": {},
   "source": [
    "# Question 13\n",
    "Pour pouvoir utiliser cette fonction dans la suite il faut bien traiter le cas $k=0$."
   ]
  },
  {
   "cell_type": "code",
   "execution_count": 14,
   "metadata": {
    "collapsed": true
   },
   "outputs": [],
   "source": [
    "def ksuffixe(n,k,q):\n",
    "    res = list(q)\n",
    "    for l in range(k):\n",
    "        if q[n-l-1] != 4:\n",
    "            return q\n",
    "    res[n-k-1] = 4\n",
    "    return res"
   ]
  },
  {
   "cell_type": "code",
   "execution_count": 15,
   "metadata": {
    "collapsed": false
   },
   "outputs": [
    {
     "name": "stdout",
     "output_type": "stream",
     "text": [
      "[0, 4, 4, 4] [0, 1, 2, 4] [0, 1, 2, 4]\n"
     ]
    }
   ],
   "source": [
    "print(ksuffixe(4,2,[0,1,4,4]),ksuffixe(4,2,[0,1,2,4]),ksuffixe(4,0,[0,1,2,3]))"
   ]
  },
  {
   "cell_type": "markdown",
   "metadata": {},
   "source": [
    "# Question 14\n",
    "Sur le principe la fonction n'est pas très dure: il faut regrouper les séquences quatre par quatre quand elle ne diffèrent que de leur denier digit qui n'est pas égal à quatre. On fait ça en utilisant la fonction `ksuffixe` coder plus haut qui nous permet justement de comparer uniquement les `n-1-k` premiers digits."
   ]
  },
  {
   "cell_type": "code",
   "execution_count": 39,
   "metadata": {
    "collapsed": true
   },
   "outputs": [],
   "source": [
    "def compacte(n,s):\n",
    "\n",
    "    res = list(s)\n",
    "    for k in range(n):\n",
    "        n_points = len(res)\n",
    "        curr_s = []\n",
    "        \n",
    "        i = 0\n",
    "        while i + 3 < n_points:\n",
    "            '''\n",
    "                we check whether the next four guys\n",
    "                are sharing the same k-suffixe\n",
    "            '''\n",
    "            equal_suff = True\n",
    "            \n",
    "            ksuffixe_i = ksuffixe(n,k,res[i])\n",
    "            for j in range(1,4):\n",
    "                ksuffixe_j = ksuffixe(n,k,res[i+j])\n",
    "                if not listes_egales(ksuffixe_i,ksuffixe_j):\n",
    "                    equal_suff = False\n",
    "            \n",
    "            if equal_suff:\n",
    "                curr_s.append(ksuffixe_i)\n",
    "                i += 4\n",
    "            else:\n",
    "                curr_s.append(res[i])\n",
    "                i += 1\n",
    "        \n",
    "        # on rajoute la fin\n",
    "        while i < n_points:\n",
    "            curr_s.append(res[i])\n",
    "            i += 1\n",
    "\n",
    "        res = curr_s\n",
    "    \n",
    "    return res         "
   ]
  },
  {
   "cell_type": "markdown",
   "metadata": {},
   "source": [
    "Ci-dessous, les deux AQL du sujet (Q12 et Figure 3)."
   ]
  },
  {
   "cell_type": "code",
   "execution_count": 43,
   "metadata": {
    "collapsed": false
   },
   "outputs": [
    {
     "data": {
      "text/plain": [
       "[[0, 0], [0, 3], [1, 2], [3, 4]]"
      ]
     },
     "execution_count": 43,
     "metadata": {},
     "output_type": "execute_result"
    }
   ],
   "source": [
    "compacte(2,[[0,0],[0,3],[1,2],[3,0],[3,1],[3,2],[3,3]])"
   ]
  },
  {
   "cell_type": "code",
   "execution_count": 42,
   "metadata": {
    "collapsed": false
   },
   "outputs": [
    {
     "data": {
      "text/plain": [
       "[[0, 0, 0], [0, 0, 3], [0, 3, 3], [1, 1, 4], [1, 2, 4], [2, 4, 4], [3, 3, 4]]"
      ]
     },
     "execution_count": 42,
     "metadata": {},
     "output_type": "execute_result"
    }
   ],
   "source": [
    "big_s = [[0,0,0],[0,0,3],[0,3,3],[1,1,0],[1,1,1],[1,1,2],[1,1,3]]\n",
    "big_s += [[1,2,0],[1,2,1],[1,2,2],[1,2,3]]\n",
    "big_s += [[2,0,0],[2,0,1],[2,0,2],[2,0,3],[2,1,0],[2,1,1],[2,1,2],[2,1,3],[2,2,0],[2,2,1],[2,2,2],[2,2,3]]\n",
    "big_s += [[2,3,0],[2,3,1],[2,3,2],[2,3,3],[3,3,0],[3,3,1],[3,3,2],[3,3,4]]\n",
    "compacte(3,big_s)"
   ]
  },
  {
   "cell_type": "markdown",
   "metadata": {},
   "source": [
    "# Question 15"
   ]
  },
  {
   "cell_type": "code",
   "execution_count": 48,
   "metadata": {
    "collapsed": true
   },
   "outputs": [],
   "source": [
    "def compare_ccodes(n,p,q):\n",
    "    lex = compare_pcodes(n,p,q)\n",
    "    \n",
    "    for i in range(n):\n",
    "        if p[i] != q[i]:\n",
    "            if (p[i] == 4 or q[i] == 4):\n",
    "                return 2*lex\n",
    "            else:\n",
    "                return lex\n",
    "    \n",
    "    return 0"
   ]
  },
  {
   "cell_type": "code",
   "execution_count": 50,
   "metadata": {
    "collapsed": false
   },
   "outputs": [
    {
     "name": "stdout",
     "output_type": "stream",
     "text": [
      "1 2\n"
     ]
    }
   ],
   "source": [
    "print(compare_ccodes(3,[1,4,4],[2,4,4]),compare_ccodes(3,[1,2,4],[1,4,4]))"
   ]
  },
  {
   "cell_type": "markdown",
   "metadata": {},
   "source": [
    "# Question 16\n",
    "La fonction ci-dessous a bien la complexité demandée."
   ]
  },
  {
   "cell_type": "code",
   "execution_count": 64,
   "metadata": {
    "collapsed": true
   },
   "outputs": [],
   "source": [
    "def intersection2(n,p,q):\n",
    "    \n",
    "    res = []\n",
    "    \n",
    "    i_p = 0\n",
    "    i_q = 0\n",
    "    \n",
    "    while i_p < len(p) and i_q < len(q):\n",
    "        \n",
    "        cmp = compare_ccodes(n,p[i_p],q[i_q])\n",
    "        if cmp == 0 or cmp == 2:\n",
    "            res.append(p[i_p])\n",
    "        if cmp == -2:\n",
    "            res.append(q[i_q])\n",
    "            \n",
    "        if cmp >= 0:\n",
    "            i_p += 1\n",
    "        if cmp <= 0:\n",
    "            i_q += 1\n",
    "        \n",
    "    return res"
   ]
  },
  {
   "cell_type": "code",
   "execution_count": 63,
   "metadata": {
    "collapsed": false
   },
   "outputs": [
    {
     "data": {
      "text/plain": [
       "[[1, 1, 4], [1, 2, 4]]"
      ]
     },
     "execution_count": 63,
     "metadata": {},
     "output_type": "execute_result"
    }
   ],
   "source": [
    "intersection2(3,[[0, 0, 0], [0, 0, 3], [0, 3, 3], [1, 1, 4], [1, 2, 4], [2, 4, 4], [3, 3, 4]],[[1,4,4]])"
   ]
  },
  {
   "cell_type": "markdown",
   "metadata": {},
   "source": [
    "Si on résume on est passé d'un algo naif qui tournait en `O(len(p)len(q))` a un algo en `O(len(p)log(len(p)) + len(q)log(len(q)))` (en effet, on doit trier lexicographiquement les codages de `p` et `q` en cours de route ce qui est déjà plus cher que de calculer l'intersection avec la nouvelle méthode)."
   ]
  }
 ],
 "metadata": {
  "kernelspec": {
   "display_name": "Python 3",
   "language": "python",
   "name": "python3"
  },
  "language_info": {
   "codemirror_mode": {
    "name": "ipython",
    "version": 3
   },
   "file_extension": ".py",
   "mimetype": "text/x-python",
   "name": "python",
   "nbconvert_exporter": "python",
   "pygments_lexer": "ipython3",
   "version": "3.6.4"
  }
 },
 "nbformat": 4,
 "nbformat_minor": 2
}
