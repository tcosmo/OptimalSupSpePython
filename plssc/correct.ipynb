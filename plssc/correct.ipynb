{
 "cells": [
  {
   "cell_type": "markdown",
   "metadata": {},
   "source": [
    "# Plus longues sous suites croissantes\n",
    "## Question 1\n",
    "Les plus longues sous suites croissantes de $u=[1,4,2,5,3,0]$ sont:   \n",
    "$$[1,2,3],[1,4,5],[1,2,5]$$\n",
    "## Question 2\n",
    "### a)\n",
    "$m_0 = 1$, il s'agit de prendre la sous suite $[u_0]$.\n",
    "### b)\n",
    "Si on a calculé $m_0,\\,\\dots,\\,m_{i-1}$ on a:\n",
    "$$ m_i = 1 + max \\{m_k \\enspace | \\enspace k < i,\\, u_k \\leq u_i\\}$$\n",
    "Avec la convention $max\\{\\emptyset\\} = 0$.\n",
    "### c)\n",
    "On en déduit:"
   ]
  },
  {
   "cell_type": "code",
   "execution_count": 3,
   "metadata": {
    "collapsed": true
   },
   "outputs": [],
   "source": [
    "def tailles_plssc(u):\n",
    "    m = []\n",
    "    for i in range(len(u)):\n",
    "        max_below = 0\n",
    "        for k in range(i):\n",
    "            if u[k] <= u[i]:\n",
    "                max_below = max(max_below,m[k])\n",
    "        m.append(1+max_below)\n",
    "    return m"
   ]
  },
  {
   "cell_type": "code",
   "execution_count": 4,
   "metadata": {
    "collapsed": false
   },
   "outputs": [
    {
     "data": {
      "text/plain": [
       "[1, 2, 2, 3, 3, 1]"
      ]
     },
     "execution_count": 4,
     "metadata": {},
     "output_type": "execute_result"
    }
   ],
   "source": [
    "u = [1,4,2,5,3,0]\n",
    "tailles_plssc(u)"
   ]
  },
  {
   "cell_type": "markdown",
   "metadata": {},
   "source": [
    "### d)\n",
    "La complexité de notre fonction est $O(n^2)$ : à chacune des $n$ étapes on fait un parcours de $u$ dont la longueur est bornée par $n$. \n",
    "### e)\n",
    "*Hint*: Comment optimiser la requête \"Quel est le maximum dans un interval donné ?\"."
   ]
  },
  {
   "cell_type": "markdown",
   "metadata": {},
   "source": [
    "## Question 3"
   ]
  },
  {
   "cell_type": "code",
   "execution_count": 5,
   "metadata": {
    "collapsed": true
   },
   "outputs": [],
   "source": [
    "def une_plssc(u):\n",
    "    plssc = []\n",
    "    m = tailles_plssc(u)\n",
    "    \n",
    "    curr_max = max(m)\n",
    "    curr_u = max(u)\n",
    "    for i in range(len(m)-1,-1,-1):\n",
    "        if m[i] == curr_max and u[i] <= curr_u:\n",
    "            curr_max -= 1\n",
    "            curr_u = u[i]\n",
    "            plssc.append(curr_u)\n",
    "    return plssc[::-1]"
   ]
  },
  {
   "cell_type": "code",
   "execution_count": 6,
   "metadata": {
    "collapsed": false
   },
   "outputs": [
    {
     "data": {
      "text/plain": [
       "[1, 2, 3]"
      ]
     },
     "execution_count": 6,
     "metadata": {},
     "output_type": "execute_result"
    }
   ],
   "source": [
    "une_plssc(u)"
   ]
  },
  {
   "cell_type": "markdown",
   "metadata": {
    "collapsed": true
   },
   "source": [
    "# License\n",
    "The MIT License (MIT)\n",
    "\n",
    "Copyright (c) 2017 Tristan Stérin pour Optimale Sup Spé\n",
    "\n",
    "Permission is hereby granted, free of charge, to any person obtaining a copy\n",
    "of this software and associated documentation files (the \"Software\"), to deal\n",
    "in the Software without restriction, including without limitation the rights\n",
    "to use, copy, modify, merge, publish, distribute, sublicense, and/or sell\n",
    "copies of the Software, and to permit persons to whom the Software is\n",
    "furnished to do so, subject to the following conditions:\n",
    "\n",
    "The above copyright notice and this permission notice shall be included in\n",
    "all copies or substantial portions of the Software.\n",
    "\n",
    "THE SOFTWARE IS PROVIDED \"AS IS\", WITHOUT WARRANTY OF ANY KIND, EXPRESS OR\n",
    "IMPLIED, INCLUDING BUT NOT LIMITED TO THE WARRANTIES OF MERCHANTABILITY,\n",
    "FITNESS FOR A PARTICULAR PURPOSE AND NONINFRINGEMENT. IN NO EVENT SHALL THE\n",
    "AUTHORS OR COPYRIGHT HOLDERS BE LIABLE FOR ANY CLAIM, DAMAGES OR OTHER\n",
    "LIABILITY, WHETHER IN AN ACTION OF CONTRACT, TORT OR OTHERWISE, ARISING FROM,\n",
    "OUT OF OR IN CONNECTION WITH THE SOFTWARE OR THE USE OR OTHER DEALINGS IN\n",
    "THE SOFTWARE."
   ]
  },
  {
   "cell_type": "code",
   "execution_count": null,
   "metadata": {
    "collapsed": true
   },
   "outputs": [],
   "source": []
  }
 ],
 "metadata": {
  "kernelspec": {
   "display_name": "Python 3",
   "language": "python",
   "name": "python3"
  },
  "language_info": {
   "codemirror_mode": {
    "name": "ipython",
    "version": 3
   },
   "file_extension": ".py",
   "mimetype": "text/x-python",
   "name": "python",
   "nbconvert_exporter": "python",
   "pygments_lexer": "ipython3",
   "version": "3.6.2"
  }
 },
 "nbformat": 4,
 "nbformat_minor": 2
}
