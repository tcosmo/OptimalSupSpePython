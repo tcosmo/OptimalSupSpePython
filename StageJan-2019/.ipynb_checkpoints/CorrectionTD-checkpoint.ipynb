{
 "cells": [
  {
   "cell_type": "code",
   "execution_count": 248,
   "metadata": {},
   "outputs": [],
   "source": [
    "import numpy as np\n",
    "import matplotlib.pyplot as plt\n",
    "#pip install matplotlib"
   ]
  },
  {
   "cell_type": "markdown",
   "metadata": {},
   "source": [
    "# Maximum"
   ]
  },
  {
   "cell_type": "code",
   "execution_count": 7,
   "metadata": {},
   "outputs": [],
   "source": [
    "def maximum(L):\n",
    "    if len(L) == 0:\n",
    "        return 0  \n",
    "    m = L[0]\n",
    "    for x in L:\n",
    "        if x > m:\n",
    "            m = x\n",
    "    return m"
   ]
  },
  {
   "cell_type": "markdown",
   "metadata": {},
   "source": [
    "La fonction \"maximum\" parcourt chaque element de la liste L une fois en effectuant a chaque fois des operations elementaires. La complexite de la fonction \"maximum\" est donc O(n) avec n la taille de la liste L."
   ]
  },
  {
   "cell_type": "code",
   "execution_count": 9,
   "metadata": {},
   "outputs": [
    {
     "data": {
      "text/plain": [
       "424"
      ]
     },
     "execution_count": 9,
     "metadata": {},
     "output_type": "execute_result"
    }
   ],
   "source": [
    "max([1,23,424])"
   ]
  },
  {
   "cell_type": "code",
   "execution_count": 8,
   "metadata": {},
   "outputs": [
    {
     "data": {
      "text/plain": [
       "29302930"
      ]
     },
     "execution_count": 8,
     "metadata": {},
     "output_type": "execute_result"
    }
   ],
   "source": [
    "maximum([1,23,29302930,2])"
   ]
  },
  {
   "cell_type": "code",
   "execution_count": 3,
   "metadata": {},
   "outputs": [
    {
     "data": {
      "text/plain": [
       "0"
      ]
     },
     "execution_count": 3,
     "metadata": {},
     "output_type": "execute_result"
    }
   ],
   "source": [
    "maximum([-1,-3])"
   ]
  },
  {
   "cell_type": "markdown",
   "metadata": {},
   "source": [
    "# Moyenne"
   ]
  },
  {
   "cell_type": "code",
   "execution_count": 49,
   "metadata": {},
   "outputs": [],
   "source": [
    "Ltest = [1,5,-10,32,12]"
   ]
  },
  {
   "cell_type": "code",
   "execution_count": 18,
   "metadata": {},
   "outputs": [],
   "source": [
    "def moyenne(L):\n",
    "    s = 0.0\n",
    "    for x in L:\n",
    "        s += x\n",
    "    return s/len(L)"
   ]
  },
  {
   "cell_type": "markdown",
   "metadata": {},
   "source": [
    "La fonction \"moyenne\" parcout chaque element de la liste une fois en effectuant a chaque fois seulement des operations elementaires. **La complexite de la fonction \"moyenne\" est donc O(n)** avec n la taille de la liste en entree."
   ]
  },
  {
   "cell_type": "code",
   "execution_count": 40,
   "metadata": {},
   "outputs": [],
   "source": [
    "def carre(L):\n",
    "    L1 = L.copy()#ATTENTION!!!!\n",
    "    for i in range(len(L1)):\n",
    "        L1[i] = L1[i]**2\n",
    "    return L1"
   ]
  },
  {
   "cell_type": "code",
   "execution_count": 43,
   "metadata": {},
   "outputs": [],
   "source": [
    "def ecart_type1(L):\n",
    "    return np.sqrt(moyenne(carre(L))-moyenne(L)**2)"
   ]
  },
  {
   "cell_type": "markdown",
   "metadata": {},
   "source": [
    "Complexite: O(n)"
   ]
  },
  {
   "cell_type": "code",
   "execution_count": 52,
   "metadata": {},
   "outputs": [],
   "source": [
    "def ecart_type2(L):\n",
    "    L_au_carre = [ x**2 for x in L ]\n",
    "    return np.sqrt(moyenne(L_au_carre)-moyenne(L)**2)"
   ]
  },
  {
   "cell_type": "code",
   "execution_count": 82,
   "metadata": {},
   "outputs": [],
   "source": [
    "def ecart_type3(L):\n",
    "    L_EcartsAuCarre = [ (x-moyenne(L)**2) for x in L ]\n",
    "    return np.sqrt(moyenne(L_EcartsAuCarre))"
   ]
  },
  {
   "cell_type": "markdown",
   "metadata": {},
   "source": [
    "La fonction \"ecart_type3\" parcourt chaque element de la liste en effectuant a chaque fois un appel a la fonction \"moyenne\" dont la complexite est lineaire en la taille de la liste. **La complexite de la fonction \"ecart_type3\" est donc O(n^2)** avec n la taille de la liste en entree."
   ]
  },
  {
   "cell_type": "code",
   "execution_count": 84,
   "metadata": {},
   "outputs": [],
   "source": [
    "def ecart_type4(L):\n",
    "    m = moyenne(L)\n",
    "    L_EcartsAuCarre = [ (x-m**2) for x in L ]\n",
    "    return np.sqrt(moyenne(L_EcartsAuCarre))"
   ]
  },
  {
   "cell_type": "markdown",
   "metadata": {},
   "source": [
    "# Complexite"
   ]
  },
  {
   "cell_type": "code",
   "execution_count": 76,
   "metadata": {},
   "outputs": [],
   "source": [
    "Ltest2 = [1]*10000"
   ]
  },
  {
   "cell_type": "code",
   "execution_count": 80,
   "metadata": {},
   "outputs": [
    {
     "name": "stdout",
     "output_type": "stream",
     "text": [
      "CPU times: user 15.9 ms, sys: 3.01 ms, total: 18.9 ms\n",
      "Wall time: 16.9 ms\n"
     ]
    },
    {
     "data": {
      "text/plain": [
       "0.0"
      ]
     },
     "execution_count": 80,
     "metadata": {},
     "output_type": "execute_result"
    }
   ],
   "source": [
    "%%time\n",
    "ecart_type2(Ltest2)"
   ]
  },
  {
   "cell_type": "code",
   "execution_count": 81,
   "metadata": {},
   "outputs": [
    {
     "name": "stdout",
     "output_type": "stream",
     "text": [
      "CPU times: user 1.82 ms, sys: 0 ns, total: 1.82 ms\n",
      "Wall time: 1.82 ms\n"
     ]
    },
    {
     "data": {
      "text/plain": [
       "0.0"
      ]
     },
     "execution_count": 81,
     "metadata": {},
     "output_type": "execute_result"
    }
   ],
   "source": [
    "%%time\n",
    "ecart_type3(Ltest2)"
   ]
  },
  {
   "cell_type": "markdown",
   "metadata": {},
   "source": [
    "# Recherche Naive"
   ]
  },
  {
   "cell_type": "code",
   "execution_count": 111,
   "metadata": {},
   "outputs": [],
   "source": [
    "def estDedans(L,e):\n",
    "    for x in L:\n",
    "        if x == e:\n",
    "            return True\n",
    "    return False"
   ]
  },
  {
   "cell_type": "code",
   "execution_count": 125,
   "metadata": {},
   "outputs": [],
   "source": [
    "def estDedans2(L,e):\n",
    "    i = 0\n",
    "    n = len(L)\n",
    "    \n",
    "    while i < n and L[i] != e:\n",
    "        i = i+1\n",
    "    \n",
    "    return i != n"
   ]
  },
  {
   "cell_type": "code",
   "execution_count": 126,
   "metadata": {},
   "outputs": [
    {
     "data": {
      "text/plain": [
       "False"
      ]
     },
     "execution_count": 126,
     "metadata": {},
     "output_type": "execute_result"
    }
   ],
   "source": [
    "estDedans2([1,2,3],10000)"
   ]
  },
  {
   "cell_type": "markdown",
   "metadata": {},
   "source": [
    "# Recursivite"
   ]
  },
  {
   "cell_type": "code",
   "execution_count": 130,
   "metadata": {},
   "outputs": [],
   "source": [
    "def suite_U(n):\n",
    "    if n == 0:\n",
    "        return 4\n",
    "    return 3*suite_U(n-1)"
   ]
  },
  {
   "cell_type": "code",
   "execution_count": 127,
   "metadata": {},
   "outputs": [],
   "source": [
    "def suiteGeometrique(a, b, n):\n",
    "    if n == 0:\n",
    "        return a\n",
    "    return b*suiteGeometrique(a, b, n-1)    "
   ]
  },
  {
   "cell_type": "code",
   "execution_count": 131,
   "metadata": {},
   "outputs": [],
   "source": [
    "def suite_V(n):\n",
    "    if n == 0:\n",
    "        return 35\n",
    "    \n",
    "    return n**(suite_V(n-1))*suiteGeometrique(n,n-1,n)"
   ]
  },
  {
   "cell_type": "code",
   "execution_count": 133,
   "metadata": {},
   "outputs": [],
   "source": [
    "def factoriel(n):\n",
    "    if n == 0:\n",
    "        return 1\n",
    "    return n*factoriel(n-1)"
   ]
  },
  {
   "cell_type": "code",
   "execution_count": 134,
   "metadata": {},
   "outputs": [],
   "source": [
    "def factorielIter(n):\n",
    "    facto = 1\n",
    "    for m in range(1,n+1):\n",
    "        facto *= m# facto = facto*m\n",
    "    return facto"
   ]
  },
  {
   "cell_type": "code",
   "execution_count": null,
   "metadata": {},
   "outputs": [],
   "source": []
  },
  {
   "cell_type": "code",
   "execution_count": null,
   "metadata": {},
   "outputs": [],
   "source": []
  },
  {
   "cell_type": "code",
   "execution_count": null,
   "metadata": {},
   "outputs": [],
   "source": []
  },
  {
   "cell_type": "code",
   "execution_count": null,
   "metadata": {},
   "outputs": [],
   "source": []
  },
  {
   "cell_type": "code",
   "execution_count": null,
   "metadata": {},
   "outputs": [],
   "source": []
  },
  {
   "cell_type": "code",
   "execution_count": null,
   "metadata": {},
   "outputs": [],
   "source": []
  },
  {
   "cell_type": "markdown",
   "metadata": {},
   "source": [
    "# Recherche dichotomique"
   ]
  },
  {
   "cell_type": "code",
   "execution_count": 154,
   "metadata": {},
   "outputs": [],
   "source": [
    "def rechercheDichoRec(L,x):\n",
    "    n = len(L)\n",
    "\n",
    "    if n == 0:\n",
    "        return False\n",
    "    \n",
    "    indiceMilieu = n//2\n",
    "    valeurMilieu = L[indiceMilieu]\n",
    "    \n",
    "    if valeurMilieu == x:\n",
    "        return True\n",
    "    \n",
    "    if valeurMilieu > x:\n",
    "        return rechercheDichoRec(L[:indiceMilieu],x)\n",
    "    \n",
    "    return rechercheDichoRec(L[indiceMilieu+1:],x)"
   ]
  },
  {
   "cell_type": "code",
   "execution_count": 165,
   "metadata": {},
   "outputs": [],
   "source": [
    "def rechercheDichoRec2(L,indiceDebut,indiceFin,x):\n",
    "    n = indiceFin-indiceDebut #ATTENTION\n",
    "\n",
    "    if n == 0:\n",
    "        return False\n",
    "    \n",
    "    indiceMilieu = (indiceDebut+indiceFin)//2 #ATTENTION\n",
    "    valeurMilieu = L[indiceMilieu]\n",
    "    \n",
    "    if valeurMilieu == x:\n",
    "        return True\n",
    "    \n",
    "    if valeurMilieu > x:\n",
    "        return rechercheDichoRec2(L, indiceDebut, indiceMilieu,x)\n",
    "    \n",
    "    return rechercheDichoRec2(L, indiceMilieu+1, indiceFin, x)"
   ]
  },
  {
   "cell_type": "code",
   "execution_count": 175,
   "metadata": {},
   "outputs": [],
   "source": [
    "def rechercheDichoIter(L,x):\n",
    "    \n",
    "    indiceDebut = 0\n",
    "    indiceFin   = len(L)\n",
    "    n           = indiceFin - indiceDebut\n",
    "    \n",
    "    while n != 0:   \n",
    "        indiceMilieu = (indiceDebut+indiceFin)//2\n",
    "        valeurMilieu = L[indiceMilieu]\n",
    "\n",
    "        if valeurMilieu == x:\n",
    "            return True\n",
    "        \n",
    "        if valeurMilieu > x:\n",
    "            indiceFin = indiceMilieu\n",
    "        else:\n",
    "            indiceDebut = indiceMilieu+1\n",
    "            \n",
    "        n = indiceFin - indiceDebut #ATTENTION\n",
    "            \n",
    "    return False"
   ]
  },
  {
   "cell_type": "code",
   "execution_count": 183,
   "metadata": {},
   "outputs": [
    {
     "data": {
      "text/plain": [
       "True"
      ]
     },
     "execution_count": 183,
     "metadata": {},
     "output_type": "execute_result"
    }
   ],
   "source": [
    "L = [1,3, 5]\n",
    "rechercheDichoIter(L,5)"
   ]
  },
  {
   "cell_type": "markdown",
   "metadata": {},
   "source": [
    "# Fibonacci"
   ]
  },
  {
   "cell_type": "code",
   "execution_count": 192,
   "metadata": {},
   "outputs": [],
   "source": [
    "def fibo1(n):\n",
    "    f = [0,1]\n",
    "    for i in range(2,n+1):\n",
    "        f.append( f[-1]+f[-2] )\n",
    "    return f[-1]"
   ]
  },
  {
   "cell_type": "code",
   "execution_count": 236,
   "metadata": {},
   "outputs": [],
   "source": [
    "def fibo3(n):\n",
    "    f = [0,1]\n",
    "    for i in range(2,n+1):\n",
    "        somme = f[0]+f[1]\n",
    "        f[0] = f[1]\n",
    "        f[1] = somme\n",
    "    return ( 0 if n == 0 else f[-1] )"
   ]
  },
  {
   "cell_type": "code",
   "execution_count": 240,
   "metadata": {},
   "outputs": [],
   "source": [
    "def fibo_rec(n):\n",
    "    if n < 2:\n",
    "        return n\n",
    "    return fibo_rec(n-1) + fibo_rec(n-2)"
   ]
  },
  {
   "cell_type": "code",
   "execution_count": 242,
   "metadata": {},
   "outputs": [
    {
     "name": "stdout",
     "output_type": "stream",
     "text": [
      "CPU times: user 36 µs, sys: 0 ns, total: 36 µs\n",
      "Wall time: 44.6 µs\n"
     ]
    },
    {
     "data": {
      "text/plain": [
       "9227465"
      ]
     },
     "execution_count": 242,
     "metadata": {},
     "output_type": "execute_result"
    }
   ],
   "source": [
    "%%time\n",
    "fibo3(35)"
   ]
  },
  {
   "cell_type": "code",
   "execution_count": 243,
   "metadata": {},
   "outputs": [
    {
     "name": "stdout",
     "output_type": "stream",
     "text": [
      "CPU times: user 3.25 s, sys: 817 µs, total: 3.25 s\n",
      "Wall time: 3.25 s\n"
     ]
    },
    {
     "data": {
      "text/plain": [
       "9227465"
      ]
     },
     "execution_count": 243,
     "metadata": {},
     "output_type": "execute_result"
    }
   ],
   "source": [
    "%%time\n",
    "fibo_rec(35)"
   ]
  },
  {
   "cell_type": "markdown",
   "metadata": {},
   "source": [
    "# Numpy"
   ]
  },
  {
   "cell_type": "code",
   "execution_count": 256,
   "metadata": {},
   "outputs": [
    {
     "name": "stdout",
     "output_type": "stream",
     "text": [
      "[4 5 6]\n",
      "[5 6 7]\n",
      "[16 25 36]\n",
      "[2.  2.5 3. ]\n",
      "5.0\n",
      "0.816496580927726\n"
     ]
    }
   ],
   "source": [
    "y = np.array([4,5,6])\n",
    "print(y)\n",
    "print(y+1)\n",
    "print(y**2)\n",
    "print(y/2)\n",
    "print(y.mean())\n",
    "print(y.std())"
   ]
  },
  {
   "cell_type": "code",
   "execution_count": 261,
   "metadata": {},
   "outputs": [
    {
     "name": "stdout",
     "output_type": "stream",
     "text": [
      "[[1 2 3]\n",
      " [4 5 6]\n",
      " [7 8 9]]\n",
      "[[ 30  36  42]\n",
      " [ 66  81  96]\n",
      " [102 126 150]]\n",
      "[[1. 0. 0.]\n",
      " [0. 1. 0.]\n",
      " [0. 0. 1.]]\n",
      "[[1. 2. 3.]\n",
      " [4. 5. 6.]\n",
      " [7. 8. 9.]]\n"
     ]
    }
   ],
   "source": [
    "A = np.array([[1,2,3],[4,5,6],[7,8,9]])\n",
    "print(A)\n",
    "print(A.dot(A))\n",
    "I = np.eye(3)\n",
    "print(np.linalg.inv(I))\n",
    "print(A.dot(I))"
   ]
  },
  {
   "cell_type": "code",
   "execution_count": 285,
   "metadata": {},
   "outputs": [
    {
     "data": {
      "image/png": "[encoded data removed]",
      "text/plain": [
       "<Figure size 432x288 with 1 Axes>"
      ]
     },
     "metadata": {
      "needs_background": "light"
     },
     "output_type": "display_data"
    }
   ],
   "source": [
    "a = -3\n",
    "b = 6\n",
    "N = 100\n",
    "#print( len( np.linspace(a,b,N) ) )\n",
    "#print( len( np.arange(a,b,(b-a)/N ) ) )\n",
    "x = np.linspace(a,b,N)\n",
    "\n",
    "plt.plot( x, np.sin(x)**2, 'o' )\n",
    "plt.title(\"Ma figure pour mon TIPE\")\n",
    "plt.xlabel(\"Temps\")\n",
    "plt.ylabel(\"Force\")\n",
    "plt.show()"
   ]
  },
  {
   "cell_type": "code",
   "execution_count": 291,
   "metadata": {},
   "outputs": [
    {
     "data": {
      "image/png": "[encoded data removed]",
      "text/plain": [
       "<Figure size 432x288 with 1 Axes>"
      ]
     },
     "metadata": {
      "needs_background": "light"
     },
     "output_type": "display_data"
    }
   ],
   "source": [
    "plt.imshow(A)\n",
    "plt.show()"
   ]
  },
  {
   "cell_type": "markdown",
   "metadata": {},
   "source": [
    "# Methode des trapezes"
   ]
  },
  {
   "cell_type": "code",
   "execution_count": 302,
   "metadata": {},
   "outputs": [],
   "source": [
    "def aireTrapeze(base,hauteur1,hauteur2):\n",
    "    aireRectangle = base*min(hauteur1,hauteur2)\n",
    "    aireTriangle  = (base*abs(hauteur1-hauteur2))/2\n",
    "    \n",
    "    return aireRectangle+aireTriangle\n",
    "\n",
    "def methodeTrapeze(f,a,b,N=10000):\n",
    "    x               = np.linspace(a,b,N)\n",
    "    approxIntegrale = 0\n",
    "    pasApprox       = (b-a)/N\n",
    "    \n",
    "    for i in range(len(x)-1):\n",
    "        approxIntegrale += aireTrapeze(pasApprox, f(x[i]), f(x[i+1]))\n",
    "        \n",
    "    return approxIntegrale"
   ]
  },
  {
   "cell_type": "code",
   "execution_count": 304,
   "metadata": {},
   "outputs": [
    {
     "data": {
      "text/plain": [
       "80.999919000122"
      ]
     },
     "execution_count": 304,
     "metadata": {},
     "output_type": "execute_result"
    }
   ],
   "source": [
    "methodeTrapeze(lambda x: x**2, -3, 6,1000000)"
   ]
  },
  {
   "cell_type": "markdown",
   "metadata": {},
   "source": [
    "# Approx pi par Monte Carlo"
   ]
  },
  {
   "cell_type": "code",
   "execution_count": 305,
   "metadata": {},
   "outputs": [],
   "source": [
    "import random"
   ]
  },
  {
   "cell_type": "code",
   "execution_count": 306,
   "metadata": {},
   "outputs": [
    {
     "data": {
      "text/plain": [
       "0.2038150582504572"
      ]
     },
     "execution_count": 306,
     "metadata": {},
     "output_type": "execute_result"
    }
   ],
   "source": [
    "random.random() #U[0,1]"
   ]
  },
  {
   "cell_type": "code",
   "execution_count": 330,
   "metadata": {},
   "outputs": [],
   "source": [
    "def estDansCercle(point):\n",
    "    return point[0]**2 + point[1]**2 <= 1"
   ]
  },
  {
   "cell_type": "code",
   "execution_count": 343,
   "metadata": {},
   "outputs": [],
   "source": [
    "N = 1000\n",
    "listePointsAleatoire = np.array([ [random.random(),random.random()] for i in range(N) ])\n",
    "pointsDansCercle = []\n",
    "pointsPasDansCercle = []\n",
    "for point in listePointsAleatoire:\n",
    "    if estDansCercle(point):\n",
    "        pointsDansCercle.append(point)\n",
    "    else:\n",
    "        pointsPasDansCercle.append(point)"
   ]
  },
  {
   "cell_type": "code",
   "execution_count": 344,
   "metadata": {},
   "outputs": [],
   "source": [
    "pointsDansCercle = np.array(pointsDansCercle)\n",
    "pointsPasDansCercle = np.array(pointsPasDansCercle)"
   ]
  },
  {
   "cell_type": "code",
   "execution_count": 349,
   "metadata": {},
   "outputs": [],
   "source": [
    "pointsDansCercle = listePointsAleatoire[ (listePointsAleatoire[ :, 0 ]**2 + listePointsAleatoire[ :, 1 ]**2) <= 1 ]\n",
    "pointsPasDansCercle = listePointsAleatoire[ ~( (listePointsAleatoire[ :, 0 ]**2 + listePointsAleatoire[ :, 1 ]**2) <= 1 ) ]"
   ]
  },
  {
   "cell_type": "code",
   "execution_count": 350,
   "metadata": {},
   "outputs": [
    {
     "data": {
      "image/png": "[encoded data removed]",
      "text/plain": [
       "<Figure size 432x288 with 1 Axes>"
      ]
     },
     "metadata": {
      "needs_background": "light"
     },
     "output_type": "display_data"
    }
   ],
   "source": [
    "plt.scatter(pointsDansCercle[:,0], pointsDansCercle[:,1], c = 'g')\n",
    "plt.scatter(pointsPasDansCercle[:,0], pointsPasDansCercle[:,1], c=  'r')\n",
    "plt.show()"
   ]
  },
  {
   "cell_type": "code",
   "execution_count": 347,
   "metadata": {},
   "outputs": [
    {
     "data": {
      "text/plain": [
       "3.148"
      ]
     },
     "execution_count": 347,
     "metadata": {},
     "output_type": "execute_result"
    }
   ],
   "source": [
    "len(pointsDansCercle)/len(listePointsAleatoire)*4"
   ]
  },
  {
   "cell_type": "code",
   "execution_count": null,
   "metadata": {},
   "outputs": [],
   "source": []
  },
  {
   "cell_type": "code",
   "execution_count": null,
   "metadata": {},
   "outputs": [],
   "source": []
  },
  {
   "cell_type": "code",
   "execution_count": null,
   "metadata": {},
   "outputs": [],
   "source": []
  },
  {
   "cell_type": "code",
   "execution_count": null,
   "metadata": {},
   "outputs": [],
   "source": []
  },
  {
   "cell_type": "code",
   "execution_count": null,
   "metadata": {},
   "outputs": [],
   "source": []
  }
 ],
 "metadata": {
  "kernelspec": {
   "display_name": "Python 3",
   "language": "python",
   "name": "python3"
  },
  "language_info": {
   "codemirror_mode": {
    "name": "ipython",
    "version": 3
   },
   "file_extension": ".py",
   "mimetype": "text/x-python",
   "name": "python",
   "nbconvert_exporter": "python",
   "pygments_lexer": "ipython3",
   "version": "3.6.8"
  }
 },
 "nbformat": 4,
 "nbformat_minor": 2
}
