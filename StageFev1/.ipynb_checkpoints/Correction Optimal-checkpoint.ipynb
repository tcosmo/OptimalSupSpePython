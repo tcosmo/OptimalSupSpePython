{
 "cells": [
  {
   "cell_type": "markdown",
   "metadata": {},
   "source": [
    "# Avant propos\n",
    "Ce notebook contient les solutions proposées en cours pour certains des exos du TD (stage de Février)."
   ]
  },
  {
   "cell_type": "code",
   "execution_count": 1,
   "metadata": {
    "collapsed": true
   },
   "outputs": [],
   "source": [
    "import numpy as np"
   ]
  },
  {
   "cell_type": "code",
   "execution_count": 60,
   "metadata": {
    "collapsed": true
   },
   "outputs": [],
   "source": [
    "import random as rd"
   ]
  },
  {
   "cell_type": "markdown",
   "metadata": {},
   "source": [
    "# Max, Moyenne, Ecart Type"
   ]
  },
  {
   "cell_type": "code",
   "execution_count": 56,
   "metadata": {
    "collapsed": true
   },
   "outputs": [],
   "source": [
    "def random_liste(n,maxL=50):\n",
    "    '''\n",
    "        Petit utilitaire pour générer des listes aléatoirement.\n",
    "    '''\n",
    "    return list(np.random.choice(range(maxL),n))"
   ]
  },
  {
   "cell_type": "code",
   "execution_count": 63,
   "metadata": {
    "collapsed": true
   },
   "outputs": [],
   "source": [
    "def random_liste_bis(n,maxL=50):\n",
    "    '''\n",
    "        Idem, sans numpy.\n",
    "    '''\n",
    "    return [int(rd.random()*maxL) for i in range(n)]"
   ]
  },
  {
   "cell_type": "code",
   "execution_count": 10,
   "metadata": {
    "collapsed": false
   },
   "outputs": [
    {
     "name": "stdout",
     "output_type": "stream",
     "text": [
      "[12, 13, 7, 34, 29, 33, 11, 35, 20, 30, 46, 41, 47, 23, 20, 13, 17, 0, 31, 12, 26, 26, 26, 7, 31, 17, 3, 41, 1, 11]\n"
     ]
    }
   ],
   "source": [
    "maListe = random_liste(30)\n",
    "print(maListe)"
   ]
  },
  {
   "cell_type": "code",
   "execution_count": 32,
   "metadata": {
    "collapsed": true
   },
   "outputs": [],
   "source": [
    "def mon_max(l):\n",
    "    if len(l) == 0:\n",
    "        return\n",
    "    le_max = l[0]\n",
    "    for x in l:\n",
    "        if x > le_max:\n",
    "            le_max = x\n",
    "    return le_max"
   ]
  },
  {
   "cell_type": "code",
   "execution_count": 53,
   "metadata": {
    "collapsed": false
   },
   "outputs": [],
   "source": [
    "def moyenne(l):\n",
    "    if len(l) == 0:\n",
    "        return 0\n",
    "    somme = 0\n",
    "    for x in l:\n",
    "        somme += x\n",
    "    return somme / len(l)"
   ]
  },
  {
   "cell_type": "code",
   "execution_count": 39,
   "metadata": {
    "collapsed": false
   },
   "outputs": [],
   "source": [
    "def ecart_type(l):\n",
    "    la_moyenne = moyenne(l)\n",
    "    variance = moyenne([(x-la_moyenne)**2 for x in l])\n",
    "    return variance**(0.5)"
   ]
  },
  {
   "cell_type": "code",
   "execution_count": 40,
   "metadata": {
    "collapsed": false
   },
   "outputs": [
    {
     "data": {
      "text/plain": [
       "22.1"
      ]
     },
     "execution_count": 40,
     "metadata": {},
     "output_type": "execute_result"
    }
   ],
   "source": [
    "moyenne(maListe)"
   ]
  },
  {
   "cell_type": "code",
   "execution_count": 41,
   "metadata": {
    "collapsed": false
   },
   "outputs": [
    {
     "data": {
      "text/plain": [
       "13.011149065320865"
      ]
     },
     "execution_count": 41,
     "metadata": {},
     "output_type": "execute_result"
    }
   ],
   "source": [
    "ecart_type(maListe)"
   ]
  },
  {
   "cell_type": "code",
   "execution_count": 44,
   "metadata": {
    "collapsed": false
   },
   "outputs": [],
   "source": [
    "maListe_np = np.array(maListe)"
   ]
  },
  {
   "cell_type": "code",
   "execution_count": 45,
   "metadata": {
    "collapsed": false
   },
   "outputs": [
    {
     "data": {
      "text/plain": [
       "47"
      ]
     },
     "execution_count": 45,
     "metadata": {},
     "output_type": "execute_result"
    }
   ],
   "source": [
    "maListe_np.max()"
   ]
  },
  {
   "cell_type": "code",
   "execution_count": 46,
   "metadata": {
    "collapsed": false
   },
   "outputs": [
    {
     "data": {
      "text/plain": [
       "22.1"
      ]
     },
     "execution_count": 46,
     "metadata": {},
     "output_type": "execute_result"
    }
   ],
   "source": [
    "maListe_np.mean()"
   ]
  },
  {
   "cell_type": "code",
   "execution_count": 47,
   "metadata": {
    "collapsed": false
   },
   "outputs": [
    {
     "data": {
      "text/plain": [
       "13.011149065320865"
      ]
     },
     "execution_count": 47,
     "metadata": {},
     "output_type": "execute_result"
    }
   ],
   "source": [
    "maListe_np.std()"
   ]
  },
  {
   "cell_type": "markdown",
   "metadata": {},
   "source": [
    "# Rappels Récursivité"
   ]
  },
  {
   "cell_type": "markdown",
   "metadata": {},
   "source": [
    "$ U_0 = 4$     \n",
    "$ U_{n+1} = 3U_n$    "
   ]
  },
  {
   "cell_type": "code",
   "execution_count": 58,
   "metadata": {
    "collapsed": true
   },
   "outputs": [],
   "source": [
    "def suite_u(n):\n",
    "    if n == 0:\n",
    "        return 4\n",
    "    return 3*suite_u(n-1)"
   ]
  },
  {
   "cell_type": "code",
   "execution_count": 55,
   "metadata": {
    "collapsed": false
   },
   "outputs": [
    {
     "data": {
      "text/plain": [
       "4"
      ]
     },
     "execution_count": 55,
     "metadata": {},
     "output_type": "execute_result"
    }
   ],
   "source": [
    "suite_u(0)"
   ]
  },
  {
   "cell_type": "code",
   "execution_count": 59,
   "metadata": {
    "collapsed": false
   },
   "outputs": [
    {
     "data": {
      "text/plain": [
       "6.615321624346931e+16"
      ]
     },
     "execution_count": 59,
     "metadata": {},
     "output_type": "execute_result"
    }
   ],
   "source": [
    "suite_u(34)"
   ]
  },
  {
   "cell_type": "code",
   "execution_count": 57,
   "metadata": {
    "collapsed": false
   },
   "outputs": [
    {
     "data": {
      "text/plain": [
       "66708726798666276"
      ]
     },
     "execution_count": 57,
     "metadata": {},
     "output_type": "execute_result"
    }
   ],
   "source": [
    "4*(3**34)"
   ]
  },
  {
   "cell_type": "markdown",
   "metadata": {},
   "source": [
    "# Dichotomie"
   ]
  },
  {
   "cell_type": "code",
   "execution_count": 82,
   "metadata": {
    "collapsed": true
   },
   "outputs": [],
   "source": [
    "def recherche_dicho(l,x):\n",
    "    '''\n",
    "        Faussement nlog(n)\n",
    "    '''\n",
    "    if len(l) == 0:\n",
    "        return False\n",
    "    if len(l) == 1:\n",
    "        return l[0] == x\n",
    "    \n",
    "    n = len(l)\n",
    "    indice_milieu = n//2\n",
    "    elem_milieu = l[indice_milieu]\n",
    "    \n",
    "    if x == elem_milieu:\n",
    "        return True\n",
    "    \n",
    "    if x < elem_milieu:\n",
    "        return recherche_dicho(l[:indice_milieu],x)\n",
    "    \n",
    "    return recherche_dicho(l[indice_milieu+1:],x)"
   ]
  },
  {
   "cell_type": "code",
   "execution_count": 91,
   "metadata": {
    "collapsed": true
   },
   "outputs": [],
   "source": [
    "def recherche_dicho_bis(l,x,begin,end):\n",
    "    '''\n",
    "        Vrai nlog(n)\n",
    "    '''\n",
    "    if len(l) == 0:\n",
    "        return False\n",
    "    if len(l) == 1:\n",
    "        return l[0] == x\n",
    "    \n",
    "    n = end-begin\n",
    "    indice_milieu = (begin+end)//2\n",
    "    elem_milieu = l[indice_milieu]\n",
    "    \n",
    "    if x == elem_milieu:\n",
    "        return True\n",
    "    \n",
    "    if x < elem_milieu:\n",
    "        return recherche_dicho_bis(l,x,begin,indice_milieu)\n",
    "    \n",
    "    return recherche_dicho_bis(l,x,indice_milieu+1,end)"
   ]
  },
  {
   "cell_type": "code",
   "execution_count": 67,
   "metadata": {
    "collapsed": false
   },
   "outputs": [],
   "source": [
    "maListe.sort()"
   ]
  },
  {
   "cell_type": "code",
   "execution_count": 152,
   "metadata": {
    "collapsed": false
   },
   "outputs": [],
   "source": [
    "maListe = random_liste(101)\n",
    "maListe.sort()"
   ]
  },
  {
   "cell_type": "code",
   "execution_count": 154,
   "metadata": {
    "collapsed": false
   },
   "outputs": [
    {
     "name": "stdout",
     "output_type": "stream",
     "text": [
      "pas de problemes\n"
     ]
    }
   ],
   "source": [
    "for x in maListe:\n",
    "    if not recherche_dicho_bis(maListe,x,0,len(maListe)):\n",
    "        print(\"probleme\")\n",
    "print(\"pas de problemes\")"
   ]
  },
  {
   "cell_type": "markdown",
   "metadata": {},
   "source": [
    "# Tri Insertion"
   ]
  },
  {
   "cell_type": "code",
   "execution_count": 135,
   "metadata": {
    "collapsed": true
   },
   "outputs": [],
   "source": [
    "def insert_in_sorted_list(sorted_l,x):\n",
    "    indice_ou_mettre_x = len(sorted_l)\n",
    "    \n",
    "    for i in range(len(sorted_l)):\n",
    "        if sorted_l[i] > x:\n",
    "            indice_ou_mettre_x = i\n",
    "            break\n",
    "    \n",
    "    sorted_l.insert(indice_ou_mettre_x,x)"
   ]
  },
  {
   "cell_type": "code",
   "execution_count": 139,
   "metadata": {
    "collapsed": true
   },
   "outputs": [],
   "source": [
    "def insertion_sort(l):\n",
    "    sorted_l = []\n",
    "    for x in l:\n",
    "        insert_in_sorted_list(sorted_l,x)\n",
    "    return sorted_l"
   ]
  },
  {
   "cell_type": "code",
   "execution_count": 142,
   "metadata": {
    "collapsed": false
   },
   "outputs": [
    {
     "name": "stdout",
     "output_type": "stream",
     "text": [
      "[25, 22, 48, 39, 12, 35, 39, 41, 0, 40, 1, 31, 41, 45, 15, 30, 38, 23, 25, 26, 11, 34, 17, 1, 14, 45, 20, 15, 14, 25, 38, 27, 11, 35, 27, 17, 0, 2, 18, 19]\n",
      "[0, 0, 1, 1, 2, 11, 11, 12, 14, 14, 15, 15, 17, 17, 18, 19, 20, 22, 23, 25, 25, 25, 26, 27, 27, 30, 31, 34, 35, 35, 38, 38, 39, 39, 40, 41, 41, 45, 45, 48]\n"
     ]
    }
   ],
   "source": [
    "maListe = random_liste(40)\n",
    "print(maListe)\n",
    "maListe_triee = insertion_sort(maListe)\n",
    "print(maListe_triee)"
   ]
  },
  {
   "cell_type": "markdown",
   "metadata": {},
   "source": [
    "# Mediane"
   ]
  },
  {
   "cell_type": "code",
   "execution_count": 145,
   "metadata": {
    "collapsed": true
   },
   "outputs": [],
   "source": [
    "def mediane(L):\n",
    "    L_sorted = sorted(L)\n",
    "    indice_milieu = len(L_sorted)//2\n",
    "    \n",
    "    if len(L_sorted) % 2 == 1:\n",
    "        return L_sorted[indice_milieu]\n",
    "    \n",
    "    return (L_sorted[indice_milieu]+L_sorted[indice_milieu-1])/2"
   ]
  },
  {
   "cell_type": "code",
   "execution_count": 148,
   "metadata": {
    "collapsed": false
   },
   "outputs": [
    {
     "data": {
      "text/plain": [
       "5.5"
      ]
     },
     "execution_count": 148,
     "metadata": {},
     "output_type": "execute_result"
    }
   ],
   "source": [
    "l = [3,2,5,6,9,7]\n",
    "mediane(l)"
   ]
  },
  {
   "cell_type": "markdown",
   "metadata": {
    "collapsed": true
   },
   "source": [
    "# Tri Fusion"
   ]
  },
  {
   "cell_type": "code",
   "execution_count": 64,
   "metadata": {
    "collapsed": true
   },
   "outputs": [],
   "source": [
    "def separation(l):\n",
    "    if len(l) == 0:# l == []\n",
    "        return [],[]\n",
    "    #if len(l) == 1: (Inutile)\n",
    "        #return l,[]\n",
    "    \n",
    "    indice_milieu = len(l)//2\n",
    "    return l[:indice_milieu],l[indice_milieu:]\n",
    "        "
   ]
  },
  {
   "cell_type": "code",
   "execution_count": 60,
   "metadata": {
    "collapsed": true
   },
   "outputs": [],
   "source": [
    "def fusion(l1,l2):\n",
    "    '''\n",
    "        Cette fonction fusionne les listes l1 et l2 en supposant qu'elles sont \n",
    "        préalablement triées.\n",
    "        e.g: [1,4,7], [2,12] -> [1,2,4,7,12]\n",
    "    '''\n",
    "    \n",
    "    L_fusion = []\n",
    "    \n",
    "    i_l1 = 0\n",
    "    i_l2 = 0\n",
    "    \n",
    "    while i_l1 < len(l1) and i_l2 < len(l2):\n",
    "        if l1[i_l1] < l2[i_l2]:\n",
    "            L_fusion.append(l1[i_l1])\n",
    "            i_l1 += 1\n",
    "        else:\n",
    "            L_fusion.append(l2[i_l2])\n",
    "            i_l2 += 1\n",
    "    \n",
    "    if i_l1 < len(l1):\n",
    "        L_fusion += l1[i_l1:]\n",
    "    \n",
    "    if i_l2 < len(l2):\n",
    "        L_fusion += l2[i_l2:]\n",
    "    \n",
    "    return L_fusion"
   ]
  },
  {
   "cell_type": "code",
   "execution_count": 76,
   "metadata": {
    "collapsed": false
   },
   "outputs": [],
   "source": [
    "def tri_fusion(l):\n",
    "    if len(l) <= 1:\n",
    "        return l\n",
    "    \n",
    "    l1,l2 = separation(l)\n",
    "    \n",
    "    return fusion(tri_fusion(l1),tri_fusion(l2))"
   ]
  },
  {
   "cell_type": "code",
   "execution_count": 77,
   "metadata": {
    "collapsed": false
   },
   "outputs": [
    {
     "name": "stdout",
     "output_type": "stream",
     "text": [
      "[21, 26, 22, 21, 38, 8, 2, 25, 11, 39, 32, 19, 36, 49, 41, 6, 37, 49, 27, 28, 24, 18, 46, 3, 8, 2, 15, 43, 44, 6, 5, 12, 27, 23, 48, 38, 0, 9, 34, 31, 14, 11, 13, 34, 18, 36, 38, 16, 18, 19]\n"
     ]
    }
   ],
   "source": [
    "maListe = random_liste(50)\n",
    "print(maListe)"
   ]
  },
  {
   "cell_type": "code",
   "execution_count": 78,
   "metadata": {
    "collapsed": false
   },
   "outputs": [
    {
     "name": "stdout",
     "output_type": "stream",
     "text": [
      "[0, 2, 2, 3, 5, 6, 6, 8, 8, 9, 11, 11, 12, 13, 14, 15, 16, 18, 18, 18, 19, 19, 21, 21, 22, 23, 24, 25, 26, 27, 27, 28, 31, 32, 34, 34, 36, 36, 37, 38, 38, 38, 39, 41, 43, 44, 46, 48, 49, 49]\n"
     ]
    }
   ],
   "source": [
    "print(tri_fusion(maListe))"
   ]
  },
  {
   "cell_type": "markdown",
   "metadata": {
    "collapsed": true
   },
   "source": [
    "# Factorielle\n",
    "\n",
    "$0! = 1 $    \n",
    "$(n)! = (n)(n-1)!$"
   ]
  },
  {
   "cell_type": "code",
   "execution_count": 79,
   "metadata": {
    "collapsed": true
   },
   "outputs": [],
   "source": [
    "def fact_rec(n):\n",
    "    if n == 0:\n",
    "        return 1\n",
    "    return n*fact_rec(n-1)"
   ]
  },
  {
   "cell_type": "code",
   "execution_count": 90,
   "metadata": {
    "collapsed": true
   },
   "outputs": [],
   "source": [
    "def fact(n):\n",
    "    produit = 1\n",
    "    for k in range(1,n+1):\n",
    "        produit *= k\n",
    "    return produit"
   ]
  },
  {
   "cell_type": "code",
   "execution_count": 94,
   "metadata": {
    "collapsed": true
   },
   "outputs": [],
   "source": [
    "def fact_while(n):\n",
    "    produit = 1\n",
    "    k = 1\n",
    "    while k <= n:\n",
    "        produit *= k\n",
    "        k += 1\n",
    "    return produit"
   ]
  },
  {
   "cell_type": "markdown",
   "metadata": {},
   "source": [
    "# Coefficients Binomiaux\n",
    "$C_n^k = \\frac{n!}{(n-k)!k!}$      \n",
    "$C_n^k = C_{n-1}^k + C_{n-1}^{k-1}$"
   ]
  },
  {
   "cell_type": "code",
   "execution_count": 104,
   "metadata": {
    "collapsed": true
   },
   "outputs": [],
   "source": [
    "def coeff_binomiaux(n,k):\n",
    "    return fact(n)//(fact(n-k)*fact(k))"
   ]
  },
  {
   "cell_type": "code",
   "execution_count": 138,
   "metadata": {
    "collapsed": true
   },
   "outputs": [],
   "source": [
    "def coeff_binomiaux_pascal_rec(n,k):\n",
    "    if k == 0 or n == k:\n",
    "        return 1\n",
    "    return coeff_binomiaux_pascal_rec(n-1,k)+coeff_binomiaux_pascal_rec(n-1,k-1)"
   ]
  },
  {
   "cell_type": "code",
   "execution_count": 141,
   "metadata": {
    "collapsed": true
   },
   "outputs": [],
   "source": [
    "import tqdm"
   ]
  },
  {
   "cell_type": "code",
   "execution_count": 149,
   "metadata": {
    "collapsed": true
   },
   "outputs": [],
   "source": [
    "def calcule_triangle_pascal(n):\n",
    "    a_retourner = [[0 for j in range(n)] for i in range(n)]\n",
    "    for i in range(n):\n",
    "        for j in range(i+1):\n",
    "            if j == 0:\n",
    "                a_retourner[i][j] = 1\n",
    "            else:\n",
    "                a_retourner[i][j] =  a_retourner[i-1][j] + a_retourner[i-1][j-1]\n",
    "                \n",
    "    return a_retourner"
   ]
  },
  {
   "cell_type": "code",
   "execution_count": 166,
   "metadata": {
    "collapsed": true
   },
   "outputs": [],
   "source": [
    "def calcule_triangle_pascal_modulo_2(n):\n",
    "    a_retourner = [[0 for j in range(n)] for i in range(2)]\n",
    "    \n",
    "    for i in tqdm.tqdm(range(n)):\n",
    "        for j in range(i+1):\n",
    "            if j == 0:\n",
    "                a_retourner[i%2][j] = 1\n",
    "            else:\n",
    "                a_retourner[i%2][j] =  a_retourner[(i-1)%2][j] + a_retourner[(i-1)%2][j-1]\n",
    "                \n",
    "    return a_retourner"
   ]
  },
  {
   "cell_type": "code",
   "execution_count": 163,
   "metadata": {
    "collapsed": true
   },
   "outputs": [],
   "source": [
    "def coeff_binomiaux_pascal_iter(n,k):\n",
    "    triangle_pascal = calcule_triangle_pascal_modulo_2(n+1)\n",
    "    return triangle_pascal[n%2][k]"
   ]
  },
  {
   "cell_type": "code",
   "execution_count": 172,
   "metadata": {
    "collapsed": false
   },
   "outputs": [
    {
     "data": {
      "text/plain": [
       "166167000"
      ]
     },
     "execution_count": 172,
     "metadata": {},
     "output_type": "execute_result"
    }
   ],
   "source": [
    "coeff_binomiaux(1000,3)"
   ]
  },
  {
   "cell_type": "markdown",
   "metadata": {},
   "source": [
    "# Fibonacci\n",
    "$ F_0 = 0 $   \n",
    "$ F_{n} = F_{n-1} + F_{n-2}$ "
   ]
  },
  {
   "cell_type": "code",
   "execution_count": 181,
   "metadata": {
    "collapsed": true
   },
   "outputs": [],
   "source": [
    "def fibo_rec(n):\n",
    "    if n==0:\n",
    "        return 0\n",
    "    if n==1:\n",
    "        return 1\n",
    "    return fibo_rec(n-1) + fibo_rec(n-2)"
   ]
  },
  {
   "cell_type": "code",
   "execution_count": 187,
   "metadata": {
    "collapsed": false
   },
   "outputs": [],
   "source": [
    "def fibo_rec_lin(n):\n",
    "    #blabla\n",
    "    return"
   ]
  },
  {
   "cell_type": "code",
   "execution_count": 188,
   "metadata": {
    "collapsed": false
   },
   "outputs": [
    {
     "data": {
      "text/plain": [
       "array([0.12717951])"
      ]
     },
     "execution_count": 188,
     "metadata": {},
     "output_type": "execute_result"
    }
   ],
   "source": [
    "np.random.randn(1)"
   ]
  },
  {
   "cell_type": "code",
   "execution_count": 174,
   "metadata": {
    "collapsed": true
   },
   "outputs": [],
   "source": [
    "def fibo(n):\n",
    "    if n <= 1:\n",
    "        return n\n",
    "    u = 1,0\n",
    "    for i in range(2,n+1):\n",
    "        a,b = u\n",
    "        u = a+b,a\n",
    "    return u[0]"
   ]
  },
  {
   "cell_type": "markdown",
   "metadata": {},
   "source": [
    "# Manipulation  des fichiers\n",
    "## Lecture"
   ]
  },
  {
   "cell_type": "code",
   "execution_count": 190,
   "metadata": {
    "collapsed": true
   },
   "outputs": [],
   "source": [
    "f = open(\"training_output.csv\",\"r\")\n",
    "raw_file = f.read()\n",
    "f.close()"
   ]
  },
  {
   "cell_type": "code",
   "execution_count": 205,
   "metadata": {
    "collapsed": true
   },
   "outputs": [],
   "source": [
    "raw_truncated_file = raw_file[:1000]"
   ]
  },
  {
   "cell_type": "code",
   "execution_count": 248,
   "metadata": {
    "collapsed": false
   },
   "outputs": [],
   "source": [
    "valeur_boursieres = []\n",
    "for i,ligne in enumerate(raw_truncated_file.split(\"\\n\")[1:]):\n",
    "    colonnes = ligne.split(';')\n",
    "    valeur_boursieres.append(float(colonnes[1]))"
   ]
  },
  {
   "cell_type": "code",
   "execution_count": 260,
   "metadata": {
    "collapsed": false
   },
   "outputs": [
    {
     "data": {
      "text/plain": [
       "array([0.13416782, 0.04612618, 0.14431244, 0.13017568, 0.08587257,\n",
       "       0.12272394, 0.15088466, 0.1507026 , 0.10204839, 0.16372444,\n",
       "       0.10314912, 0.09938587, 0.18102687, 0.17809244, 0.10190031,\n",
       "       0.16328866, 0.1063772 , 0.09569925, 0.108759  , 0.13403271,\n",
       "       0.08724501, 0.14777775, 0.2499699 , 0.09630094, 0.10947703,\n",
       "       0.10823848, 0.15489119, 0.08247893, 0.07073958, 0.09668169,\n",
       "       0.25829083, 0.08448447, 0.07201351, 0.18541235, 0.10523932,\n",
       "       0.09041269, 0.13731367, 0.0574183 , 0.07092185, 0.07495205,\n",
       "       0.10035154, 0.0794551 , 0.14086413, 0.06651942, 0.04423782,\n",
       "       0.11654086, 0.04888033, 0.07190511, 0.14569197, 0.1337223 ,\n",
       "       0.08824189, 0.0896911 , 0.10735215, 0.12546122, 0.1111819 ])"
      ]
     },
     "execution_count": 260,
     "metadata": {},
     "output_type": "execute_result"
    }
   ],
   "source": [
    "np.loadtxt(\"fichier.txt\")"
   ]
  },
  {
   "cell_type": "markdown",
   "metadata": {},
   "source": [
    "## Ecriture\n",
    "Attention, l'instruction open(mon_fichier, \"w\") supprime le contenu\n",
    "de mon_fichier si il existe deja."
   ]
  },
  {
   "cell_type": "code",
   "execution_count": 262,
   "metadata": {
    "collapsed": false
   },
   "outputs": [
    {
     "name": "stdout",
     "output_type": "stream",
     "text": [
      "[2, 33, 10, 13, 22, 42, 2, 27, 40, 48, 2, 28, 30, 10, 41, 47, 27, 0, 29, 44, 3, 5, 17, 47, 4, 11, 39, 13, 38, 39, 36, 17, 49, 40, 42, 39, 3, 36, 30, 23]\n"
     ]
    }
   ],
   "source": [
    "maListe = random_liste(40)\n",
    "print(maListe)"
   ]
  },
  {
   "cell_type": "code",
   "execution_count": 278,
   "metadata": {
    "collapsed": true
   },
   "outputs": [],
   "source": [
    "f = open(\"mes_donnees.txt\", \"w\")"
   ]
  },
  {
   "cell_type": "code",
   "execution_count": 276,
   "metadata": {
    "collapsed": false
   },
   "outputs": [],
   "source": [
    "for x in maListe:\n",
    "    f.write(str(x+1)+\"\\n\")"
   ]
  },
  {
   "cell_type": "code",
   "execution_count": 277,
   "metadata": {
    "collapsed": true
   },
   "outputs": [],
   "source": [
    "f.close()"
   ]
  },
  {
   "cell_type": "markdown",
   "metadata": {},
   "source": [
    "# Quick Sort\n",
    "## Question 1\n",
    "Coder une fonction `avant_apres_p(l,p)` qui renvoie deux listes `l1` et `l2`        \n",
    "telles que `l1` contient tous les éléments de `l` inférieurs strict à  `p` et       \n",
    "`l2` tous les éléments de `l` strictement supérieurs que `p`.     \n",
    "## Question 2\n",
    "Coder le `quicksort`. En s'inspirant de ce qui a été fait pour le tri\n",
    "fusion."
   ]
  },
  {
   "cell_type": "code",
   "execution_count": 294,
   "metadata": {
    "collapsed": false
   },
   "outputs": [
    {
     "name": "stdout",
     "output_type": "stream",
     "text": [
      "CPU times: user 728 ms, sys: 412 ms, total: 1.14 s\n",
      "Wall time: 1.14 s\n"
     ]
    }
   ],
   "source": [
    "%%time\n",
    "l = [0]*100000000\n",
    "l + [4]"
   ]
  },
  {
   "cell_type": "code",
   "execution_count": 295,
   "metadata": {
    "collapsed": false
   },
   "outputs": [
    {
     "name": "stdout",
     "output_type": "stream",
     "text": [
      "CPU times: user 278 ms, sys: 232 ms, total: 509 ms\n",
      "Wall time: 510 ms\n"
     ]
    }
   ],
   "source": [
    "%%time\n",
    "l = [0]*100000000\n",
    "l.append(4)\n",
    "l"
   ]
  },
  {
   "cell_type": "code",
   "execution_count": 310,
   "metadata": {
    "collapsed": false
   },
   "outputs": [],
   "source": [
    "def avant_apres_p_stylee(l,p):\n",
    "    l_avant = [x for x in l if x < p]\n",
    "    l_apres = [x for x in l if x > p]\n",
    "    compteur = l.count(p)\n",
    "    return l_avant,l_apres,l.count(p)"
   ]
  },
  {
   "cell_type": "code",
   "execution_count": 315,
   "metadata": {
    "collapsed": true
   },
   "outputs": [],
   "source": [
    "def avant_apres_p(l,p):\n",
    "    l_avant, l_apres = [],[]\n",
    "    compteur = 0\n",
    "    for x in l:\n",
    "        if x < p:\n",
    "            l_avant.append(x)\n",
    "        elif x > p:\n",
    "            l_apres.append(x)\n",
    "        else:\n",
    "            compteur += 1\n",
    "    return l_avant,l_apres,compteur"
   ]
  },
  {
   "cell_type": "code",
   "execution_count": 316,
   "metadata": {
    "collapsed": true
   },
   "outputs": [],
   "source": [
    "def quicksort(l):\n",
    "    if len(l) <= 1:\n",
    "        return l\n",
    "    \n",
    "    p = l[0]\n",
    "    l_avant,l_apres,compteur = avant_apres_p(l,p)\n",
    "    \n",
    "    return quicksort(l_avant) + [p]*compteur + quicksort(l_apres)"
   ]
  },
  {
   "cell_type": "code",
   "execution_count": 318,
   "metadata": {
    "collapsed": false
   },
   "outputs": [
    {
     "name": "stdout",
     "output_type": "stream",
     "text": [
      "[2, 33, 10, 13, 22, 42, 2, 27, 40, 48]\n",
      "[2, 2, 10, 13, 22, 27, 33, 40, 42, 48]\n"
     ]
    }
   ],
   "source": [
    "print(maListe[:10])\n",
    "print(quicksort(maListe[:10]))"
   ]
  },
  {
   "cell_type": "markdown",
   "metadata": {},
   "source": [
    "# Calcul Scientifique"
   ]
  },
  {
   "cell_type": "code",
   "execution_count": 321,
   "metadata": {
    "collapsed": true
   },
   "outputs": [],
   "source": [
    "import matplotlib.pyplot as plt"
   ]
  },
  {
   "cell_type": "code",
   "execution_count": 323,
   "metadata": {
    "collapsed": true
   },
   "outputs": [],
   "source": [
    "def f(x):\n",
    "    return x - np.sin(x) - 3*np.pi/2"
   ]
  },
  {
   "cell_type": "code",
   "execution_count": 344,
   "metadata": {
    "collapsed": true
   },
   "outputs": [],
   "source": [
    "def fp(x):\n",
    "    return 1-np.cos(x)"
   ]
  },
  {
   "cell_type": "code",
   "execution_count": 345,
   "metadata": {
    "collapsed": true
   },
   "outputs": [],
   "source": [
    "def newton_aux(x,f,fp):\n",
    "    return x-f(x)/fp(x)\n",
    "\n",
    "def newton(f,fp,x0,epsilon):\n",
    "    a_renvoyer = [x0]\n",
    "    \n",
    "    xn_avant = x0\n",
    "    xn = newton_aux(x0,f,fp)\n",
    "    \n",
    "    while abs(xn-xn_avant) > epsilon:\n",
    "        a_renvoyer.append(xn)\n",
    "        \n",
    "        xn_avant = xn\n",
    "        xn = newton_aux(xn,f,fp)\n",
    "    \n",
    "    return a_renvoyer"
   ]
  },
  {
   "cell_type": "code",
   "execution_count": 351,
   "metadata": {
    "collapsed": true
   },
   "outputs": [],
   "source": [
    "def tangente_de_f_en_x0(f,fp,x0,x):\n",
    "    return fp(x0)*(x-x0)+f(x0)"
   ]
  },
  {
   "cell_type": "code",
   "execution_count": 352,
   "metadata": {
    "collapsed": false
   },
   "outputs": [
    {
     "name": "stdout",
     "output_type": "stream",
     "text": [
      "[5, 3.2598499353485457, 3.9294669228282944, 3.9728987180527895, 3.97330381094423, 3.9733038471695292]\n"
     ]
    },
    {
     "data": {
      "text/plain": [
       "0.0"
      ]
     },
     "execution_count": 352,
     "metadata": {},
     "output_type": "execute_result"
    }
   ],
   "source": [
    "iteres_de_newton = newton(f,fp,5,1e-8)\n",
    "print(iteres_de_newton)\n",
    "f(iteres_de_newton[-1])"
   ]
  },
  {
   "cell_type": "code",
   "execution_count": 354,
   "metadata": {
    "collapsed": false
   },
   "outputs": [
    {
     "data": {
      "image/png": "[encoded data removed]",
      "text/plain": [
       "<matplotlib.figure.Figure at 0x7f7d89214588>"
      ]
     },
     "metadata": {},
     "output_type": "display_data"
    }
   ],
   "source": [
    "plt.figure(figsize=(10,7))\n",
    "x_range = np.linspace(3,5.5,1000)\n",
    "y = [f(x) for x in x_range]\n",
    "plt.plot(x_range,y)\n",
    "plt.plot(x_range,[0]*len(x_range))\n",
    "for xn in iteres_de_newton:\n",
    "    plt.plot(x_range,[tangente_de_f_en_x0(f,fp,xn,x) for x in x_range],linestyle=':')\n",
    "plt.show()"
   ]
  },
  {
   "cell_type": "code",
   "execution_count": null,
   "metadata": {
    "collapsed": true
   },
   "outputs": [],
   "source": []
  },
  {
   "cell_type": "code",
   "execution_count": null,
   "metadata": {
    "collapsed": true
   },
   "outputs": [],
   "source": []
  },
  {
   "cell_type": "code",
   "execution_count": null,
   "metadata": {
    "collapsed": true
   },
   "outputs": [],
   "source": []
  },
  {
   "cell_type": "code",
   "execution_count": null,
   "metadata": {
    "collapsed": true
   },
   "outputs": [],
   "source": []
  }
 ],
 "metadata": {
  "kernelspec": {
   "display_name": "Python 3",
   "language": "python",
   "name": "python3"
  },
  "language_info": {
   "codemirror_mode": {
    "name": "ipython",
    "version": 3
   },
   "file_extension": ".py",
   "mimetype": "text/x-python",
   "name": "python",
   "nbconvert_exporter": "python",
   "pygments_lexer": "ipython3",
   "version": "3.6.4"
  }
 },
 "nbformat": 4,
 "nbformat_minor": 2
}
