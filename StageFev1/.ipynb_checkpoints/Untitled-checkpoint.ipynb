{
 "cells": [
  {
   "cell_type": "code",
   "execution_count": 24,
   "metadata": {
    "collapsed": true
   },
   "outputs": [],
   "source": [
    "def une_suite(L):\n",
    "    # astuce, on transforme L en chaine de caractère\n",
    "    # pour utiliser les méthodes .find et .replace qui vont\n",
    "    # faire le taf pour nous\n",
    "    L_str = \"\".join(map(str,L))# transforme [1,1,0] en \"110\"\n",
    "    \n",
    "    max_len_ones = -1\n",
    "    where = -1\n",
    "    for len_ones in range(1,len(L_str)):\n",
    "        new_where = L_str.find(\"1\"*len_ones)\n",
    "        if new_where == -1:\n",
    "            break\n",
    "            \n",
    "        max_len_ones = len_ones\n",
    "        where = new_where\n",
    "    \n",
    "    if where == -1: # pas de 1\n",
    "        return L\n",
    "    \n",
    "    L_str = L_str.replace(\"1\"*max_len_ones,\"2\"*max_len_ones,1) # remplacer 1 fois \"1...1\" par \"2...2\"\n",
    "    return list(map(int,list(L_str))) # transformation inverse"
   ]
  },
  {
   "cell_type": "code",
   "execution_count": 29,
   "metadata": {
    "collapsed": true
   },
   "outputs": [],
   "source": [
    "def look_and_say(L):\n",
    "    '''\n",
    "        Implémente un pas de la procédure \"look and say\", cf: https://en.wikipedia.org/wiki/Look-and-say_sequence\n",
    "        1 -> 1 1\n",
    "        1 1 -> 2 1 \n",
    "        2 1 -> 1 2 1 1 \n",
    "        1 2 1 1 -> 1 1 1 2 2 1 \n",
    "        1 1 1 2 2 1 -> 3 1 1 2 1 1\n",
    "    '''\n",
    "    if len(L) == 0:\n",
    "        return L\n",
    "    \n",
    "    to_return = []\n",
    "    \n",
    "    deb = L[0]\n",
    "    count = 1\n",
    "    for i in range(1,len(L)):\n",
    "        if L[i] != deb:\n",
    "            to_return.append(count)\n",
    "            to_return.append(deb)\n",
    "            \n",
    "            deb = L[i]\n",
    "            count = 1\n",
    "        else:\n",
    "            count += 1\n",
    "    \n",
    "    to_return.append(count)\n",
    "    to_return.append(deb)\n",
    "    \n",
    "    return to_return"
   ]
  },
  {
   "cell_type": "code",
   "execution_count": 28,
   "metadata": {
    "collapsed": false
   },
   "outputs": [
    {
     "name": "stdout",
     "output_type": "stream",
     "text": [
      "[1]\n",
      "[1, 1]\n",
      "[2, 1]\n",
      "[1, 2, 1, 1]\n",
      "[1, 1, 1, 2, 2, 1]\n",
      "[3, 1, 2, 2, 1, 1]\n",
      "[1, 3, 1, 1, 2, 2, 2, 1]\n",
      "[1, 1, 1, 3, 2, 1, 3, 2, 1, 1]\n",
      "[3, 1, 1, 3, 1, 2, 1, 1, 1, 3, 1, 2, 2, 1]\n",
      "[1, 3, 2, 1, 1, 3, 1, 1, 1, 2, 3, 1, 1, 3, 1, 1, 2, 2, 1, 1]\n"
     ]
    }
   ],
   "source": [
    "L = [1]\n",
    "for i in range(10):\n",
    "    print(L)\n",
    "    L = look_and_say(L)"
   ]
  },
  {
   "cell_type": "code",
   "execution_count": null,
   "metadata": {
    "collapsed": true
   },
   "outputs": [],
   "source": []
  }
 ],
 "metadata": {
  "kernelspec": {
   "display_name": "Python 3",
   "language": "python",
   "name": "python3"
  },
  "language_info": {
   "codemirror_mode": {
    "name": "ipython",
    "version": 3
   },
   "file_extension": ".py",
   "mimetype": "text/x-python",
   "name": "python",
   "nbconvert_exporter": "python",
   "pygments_lexer": "ipython3",
   "version": "3.6.4"
  }
 },
 "nbformat": 4,
 "nbformat_minor": 2
}
