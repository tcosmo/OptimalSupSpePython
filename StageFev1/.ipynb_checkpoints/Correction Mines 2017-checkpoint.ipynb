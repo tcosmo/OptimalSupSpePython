{
 "cells": [
  {
   "cell_type": "markdown",
   "metadata": {},
   "source": [
    "# Question 1\n",
    "On utilise une liste de booléens de taille `n` où:\n",
    "- `True` à l'indice `i` signifie la présence d'une voiture à la case `i` de la file.\n",
    "- `False` à l'indice `i` signifie qu'il n'y a pas de voiture à la case `i` de la file.\n",
    "# Question 2"
   ]
  },
  {
   "cell_type": "code",
   "execution_count": 25,
   "metadata": {
    "collapsed": true
   },
   "outputs": [],
   "source": [
    "L1 = [True,False,True,True,False,True,True,False,False,False,True]"
   ]
  },
  {
   "cell_type": "code",
   "execution_count": 9,
   "metadata": {
    "collapsed": true
   },
   "outputs": [],
   "source": [
    "indices = [0,2,3,10]\n",
    "L2 = [False]*11\n",
    "for i in indices:\n",
    "    L2[i] = True"
   ]
  },
  {
   "cell_type": "markdown",
   "metadata": {},
   "source": [
    "# Question 3"
   ]
  },
  {
   "cell_type": "code",
   "execution_count": 10,
   "metadata": {
    "collapsed": true
   },
   "outputs": [],
   "source": [
    "def occupe(L,i):\n",
    "    return L[i]"
   ]
  },
  {
   "cell_type": "markdown",
   "metadata": {},
   "source": [
    "# Question 4\n",
    "On a deux choix par cases. Il y a $n$ cases. Donc en tout on a $2*2*2..*2$ choix ($n$ fois).     \n",
    "Ce qui fait $2^n$ différentes files de longueur $n$ au total."
   ]
  },
  {
   "cell_type": "markdown",
   "metadata": {},
   "source": [
    "# Question 5"
   ]
  },
  {
   "cell_type": "code",
   "execution_count": 18,
   "metadata": {
    "collapsed": true
   },
   "outputs": [],
   "source": [
    "def egal(L1,L2):\n",
    "    if len(L1) != len(L2):\n",
    "        return False\n",
    "    \n",
    "    for i in range(len(L1)):\n",
    "        if L1[i] != L2[i]:\n",
    "            return False\n",
    "    \n",
    "    return True"
   ]
  },
  {
   "cell_type": "markdown",
   "metadata": {},
   "source": [
    "# Question 6\n",
    "La fonction `egal` fait au maximum autant de tours de boucles qu'il y a d'éléments dans la liste `L1`. Aussi, la fonction, dans la boucle n'éxécute que des opérations élémentaires en $O(1)$.    \n",
    "\n",
    "Sa complexité est donc linéaire en $n = len(L1)$, c'est une complexité en $O(n)$."
   ]
  },
  {
   "cell_type": "markdown",
   "metadata": {},
   "source": [
    "# Question 7\n",
    "La fonction `egal` retourne un booléen (`bool` en Python).\n",
    "\n",
    "# Question 8\n",
    "\n",
    "[True,False,True,False,True,True,False,False,False,False,False]"
   ]
  },
  {
   "cell_type": "code",
   "execution_count": 33,
   "metadata": {
    "collapsed": true
   },
   "outputs": [],
   "source": [
    "def avancer_fin(L,m):\n",
    "    nouv_L = L[:] # les slices font des copies, je ne modifie pas L.\n",
    "    \n",
    "    n = len(nouv_L)\n",
    "    i = n-1\n",
    "    \n",
    "    while i >= m:\n",
    "        if i == n-1 or (nouv_L[i] and not nouv_L[i+1]): # évaluation paresseuse, mon [i+1] est \"safe\"\n",
    "            nouv_L[i] = False\n",
    "            if i != n-1:\n",
    "                nouv_L[i+1] = True\n",
    "        i -= 1\n",
    "    \n",
    "    return nouv_L"
   ]
  },
  {
   "cell_type": "code",
   "execution_count": 34,
   "metadata": {
    "collapsed": false
   },
   "outputs": [
    {
     "name": "stdout",
     "output_type": "stream",
     "text": [
      "[True, False, True, True, False, False, True, True, False, False, False]\n",
      "[True, False, True, True, False, True, True, False, False, False, False]\n"
     ]
    }
   ],
   "source": [
    "L = [True,False,True,True,False,True,True,False,False,False,False]\n",
    "print(avancer_fin(L,5))\n",
    "print(L)# L n'a pas été modifiée"
   ]
  },
  {
   "cell_type": "markdown",
   "metadata": {},
   "source": [
    "# Question 11"
   ]
  },
  {
   "cell_type": "code",
   "execution_count": 35,
   "metadata": {
    "collapsed": false
   },
   "outputs": [],
   "source": [
    "def avancer_debut(L,b,m):\n",
    "    nouv_L = L[:]\n",
    "    \n",
    "    n = len(L)\n",
    "    i = m-1\n",
    "    \n",
    "    while i >= 0:\n",
    "        if (nouv_L[i] and not nouv_L[i+1]): # L[i+1] toujours défini car m < len(L) dans l'énoncé\n",
    "            nouv_L[i] = False\n",
    "            nouv_L[i+1] = True\n",
    "        i -= 1\n",
    "        \n",
    "    # attention au cas particulier où b=False mais L[0]=True, on ne peut pas se passer de if\n",
    "    if not nouv_L[0]: \n",
    "        nouv_L[0] = b\n",
    "    \n",
    "    return nouv_L"
   ]
  },
  {
   "cell_type": "code",
   "execution_count": 27,
   "metadata": {
    "collapsed": false
   },
   "outputs": [
    {
     "data": {
      "text/plain": [
       "[False, True, False, True, True, True, False, True, True, False, False]"
      ]
     },
     "execution_count": 27,
     "metadata": {},
     "output_type": "execute_result"
    }
   ],
   "source": [
    "avancer_debut([True,False,True,True,True,False,False,True,True,False,False],False,5)"
   ]
  },
  {
   "cell_type": "markdown",
   "metadata": {},
   "source": [
    "# Question 11"
   ]
  },
  {
   "cell_type": "code",
   "execution_count": 37,
   "metadata": {
    "collapsed": true
   },
   "outputs": [],
   "source": [
    "def avancer_debut_bloquer(L,b,m):\n",
    "    # même fonction qu'avant mais suffit\n",
    "    # de l'appeler à m-1\n",
    "    return avancer_debut(L,b,m-1)"
   ]
  },
  {
   "cell_type": "code",
   "execution_count": 43,
   "metadata": {
    "collapsed": false
   },
   "outputs": [
    {
     "data": {
      "text/plain": [
       "[False, True, True, True, True, False, False, True, True, False, False]"
      ]
     },
     "execution_count": 43,
     "metadata": {},
     "output_type": "execute_result"
    }
   ],
   "source": [
    "avancer_debut_bloquer([True,True,False,True,True,False,False,True,True,False,False],False,5)"
   ]
  },
  {
   "cell_type": "markdown",
   "metadata": {},
   "source": [
    "# Question 12"
   ]
  },
  {
   "cell_type": "code",
   "execution_count": 62,
   "metadata": {
    "collapsed": true
   },
   "outputs": [],
   "source": [
    "def avancer_files(L1,b1,L2,b2):\n",
    "    n = len(L1)\n",
    "    m = n // 2\n",
    "    \n",
    "    L1_premier_temps = avancer_fin(L1,m)\n",
    "    L2_premier_temps = avancer_fin(L2,m)\n",
    "    \n",
    "    L1_second_temps = avancer_debut(L1_premier_temps,b1,m)\n",
    "    if L1_second_temps[m]:\n",
    "        L2_second_temps = avancer_debut_bloquer(L2_premier_temps,b2,m)\n",
    "    else:\n",
    "        L2_second_temps = avancer_debut(L2_premier_temps,b2,m)\n",
    "    \n",
    "    return [L1_second_temps,L2_second_temps]# On nous demande de renvoyer R1,R2 dans une liste"
   ]
  },
  {
   "cell_type": "code",
   "execution_count": 46,
   "metadata": {
    "collapsed": false
   },
   "outputs": [
    {
     "data": {
      "text/plain": [
       "([False, True, False, True, True, False, True, True, False, False, False],\n",
       " [False, True, False, True, True, True, False, False, False, False, False])"
      ]
     },
     "execution_count": 46,
     "metadata": {},
     "output_type": "execute_result"
    }
   ],
   "source": [
    "avancer_files([True,False,True,True,False,True,True,False,False,False,False],False,[True,False,True,True,True,False,False,False,False,False,False],False)"
   ]
  },
  {
   "cell_type": "markdown",
   "metadata": {
    "collapsed": true
   },
   "source": [
    "# Question 13\n",
    "En théorie: \n",
    "- L1 devient [False,False,True,False,True]    \n",
    "- L2 devient [False,True,False,True,False]     \n",
    "En pratique:"
   ]
  },
  {
   "cell_type": "code",
   "execution_count": 47,
   "metadata": {
    "collapsed": false
   },
   "outputs": [
    {
     "data": {
      "text/plain": [
       "([False, False, True, False, True], [False, True, False, True, False])"
      ]
     },
     "execution_count": 47,
     "metadata": {},
     "output_type": "execute_result"
    }
   ],
   "source": [
    "avancer_files([False,True,False,True,False],False,[False,True,True,False,False],False)"
   ]
  },
  {
   "cell_type": "markdown",
   "metadata": {
    "collapsed": true
   },
   "source": [
    "# Question 14\n",
    "Si toutes la file L1 est remplie et que des voitures arrivent dans L1."
   ]
  },
  {
   "cell_type": "markdown",
   "metadata": {},
   "source": [
    "# Question 15\n",
    "9 coups. En effet à partir du 5ieme coup (sans voitures ajoutées) les voitures de L2 commencer à arriver sur le carrefour puis il faut encore quatre coups (avec voitures ajoutées sur L1) pour que les voitures de L2 atteignent le bout de la file et que les voitures de L1 du coté droit du carrefour sortent."
   ]
  },
  {
   "cell_type": "markdown",
   "metadata": {},
   "source": [
    "# Question 16\n",
    "Non on ne peut pas car les voitures de la file L1 vont quitter la file avant que les voitures de L2 arrivent au bout de L2. Permettre l'ajout de voitures sur L1 ne résout pas le problème car elles n'auraient pas le temps d'arriver à la position voulue."
   ]
  },
  {
   "cell_type": "markdown",
   "metadata": {},
   "source": [
    "# Question 17\n",
    "La fonction si dessous n'est pas récursive.    \n",
    "D'autre part elle a une **complexité linéaire en la taille de L** car l'on parcourt L une seule fois et on effectue que des opérations élémentaires (i.e. en O(1)) à chaque étape du parcours."
   ]
  },
  {
   "cell_type": "code",
   "execution_count": 50,
   "metadata": {
    "collapsed": true
   },
   "outputs": [],
   "source": [
    "def elim_double(L):\n",
    "    if len(L) == 0:\n",
    "        return []\n",
    "    \n",
    "    L_sans_doublons = [L[0]]\n",
    "    \n",
    "    for i in range(1,len(L)):\n",
    "        if L[i] != L_sans_doublons[-1]:\n",
    "            L_sans_doublons.append(L[i])\n",
    "    \n",
    "    return L_sans_doublons"
   ]
  },
  {
   "cell_type": "code",
   "execution_count": 51,
   "metadata": {
    "collapsed": false
   },
   "outputs": [
    {
     "data": {
      "text/plain": [
       "[1, 3, 7]"
      ]
     },
     "execution_count": 51,
     "metadata": {},
     "output_type": "execute_result"
    }
   ],
   "source": [
    "elim_double([1,1,3,3,3,7])"
   ]
  },
  {
   "cell_type": "markdown",
   "metadata": {},
   "source": [
    "# Question 18\n",
    "Théorie:       \n",
    "L'appel renvoit [1,2,3,5]           \n",
    "Pratique:          "
   ]
  },
  {
   "cell_type": "code",
   "execution_count": 54,
   "metadata": {
    "collapsed": true
   },
   "outputs": [],
   "source": [
    "def doublons(liste):\n",
    "    if len(liste) > 1:\n",
    "        if liste[0] != liste[1]:\n",
    "            return [liste[0]]+doublons(liste[1:])\n",
    "        del liste[1]\n",
    "        return doublons(liste)\n",
    "    return liste"
   ]
  },
  {
   "cell_type": "code",
   "execution_count": 55,
   "metadata": {
    "collapsed": false
   },
   "outputs": [
    {
     "data": {
      "text/plain": [
       "[1, 2, 3, 5]"
      ]
     },
     "execution_count": 55,
     "metadata": {},
     "output_type": "execute_result"
    }
   ],
   "source": [
    "doublons([1,1,2,2,3,3,3,5])"
   ]
  },
  {
   "cell_type": "markdown",
   "metadata": {},
   "source": [
    "# Question 19\n",
    "La fonction ne fonctionnerait pas avec une liste non triée. En effet en comparant uniquement liste[0] et liste[1] la fonctions doublons ne peut pas repérer des doublons distant de plus d'une case dans le tableau.   \n",
    "Par exemple si en entrée on prend [1,2,1], la fonction doublon va renvoyer [1,2,1] car elle aura comparé 1 avec 2 puis 2 avec 1 et donc n'executera jamais l'instruction `del liste[1]` correspondant à suppression du doublon."
   ]
  },
  {
   "cell_type": "markdown",
   "metadata": {},
   "source": [
    "# Question 20\n",
    "- La fonction `recherche` a pour type de retour `bool` (elle renvoit un booléen).     \n",
    "- La variable `but` est de type `list`. Elle contient deux listes (les configurations de L1 et L2).       \n",
    "- La variable `espace` est de type `list` (c'est une liste).\n",
    "- La fonction sucesseur renvoit des listes, son type de retour est donc `list`.\n"
   ]
  },
  {
   "cell_type": "markdown",
   "metadata": {},
   "source": [
    "# Question 21\n",
    "La fonction `in1` a une complexité linéaire alors que la fonction `in2`, qui implémente une dichotomie, a une complexité logarithmique.     \n",
    "On préfère donc la fonction `in2`."
   ]
  },
  {
   "cell_type": "markdown",
   "metadata": {},
   "source": [
    "# Question 22"
   ]
  },
  {
   "cell_type": "code",
   "execution_count": 63,
   "metadata": {
    "collapsed": false
   },
   "outputs": [],
   "source": [
    "def versEntier(l):\n",
    "    entier = 0\n",
    "    for i,b in enumerate(l[::-1]): #bien penser à retourner la liste ou partir de la fin\n",
    "        entier += int(b)*2**(i)\n",
    "    return entier"
   ]
  },
  {
   "cell_type": "code",
   "execution_count": 64,
   "metadata": {
    "collapsed": false
   },
   "outputs": [
    {
     "data": {
      "text/plain": [
       "4"
      ]
     },
     "execution_count": 64,
     "metadata": {},
     "output_type": "execute_result"
    }
   ],
   "source": [
    "versEntier([True,False,False])"
   ]
  },
  {
   "cell_type": "markdown",
   "metadata": {},
   "source": [
    "# Question 23\n",
    "Par exemple, ni $n=4$ on a besoin de 3 bits donc $taille=3=log_2(4)+1$.     \n",
    "En fait on doit avoir $taille$ au moins égal à int($log_2(n)$)+1.    \n",
    "Dit autrement, au moins égal à la partie entière supérieure du log en base 2 de n.    \n",
    "À la ligne 4 il faut mettre `while i >= 0:`"
   ]
  },
  {
   "cell_type": "markdown",
   "metadata": {},
   "source": [
    "# Question 24\n",
    "On veut montrer que la boucle `while` de la fonction recherche ne peut pas être infinie.     \n",
    "Il faut montrer que ou bien `stop` vaut True à un moment ou bien la condition `but in espace` est vérifiée.     \n",
    "Deux cas:    \n",
    "- Ou bien `but` est atteignable et ainsi, comme on ajoute toutes les configurations atteignables, étapes après étapes, dans `espace` grâce à la fonction `successeur` et bien au bout d'un moment `but` sera dans `espace` et la fonction renverra `True` (la boucle s'arrêtera donc).\n",
    "- Ou bien `but` n'est pas atteignable, au quel cas la fonction recherche va remplir `espace` avec toutes les configurations atteignables (elles sont en nombre fini car borné par $2^{2n}$ où `n=len(L1)=len(L2)`). Or, comme à chaque itération on enlève les doublons, on est sûr que lorsque toutes les configurations ont été atteintes et donc ajoutées à `espace`, à l'étape d'après, `espace` ne va pas changer et donc la variable `stop` va devenir `True` et la boucle va s'arrêter."
   ]
  },
  {
   "cell_type": "markdown",
   "metadata": {},
   "source": [
    "# Question 25\n",
    "\n",
    "À l'itération k de la boucle, on rajoute dans `espace` les configurations à distance k+1 de `init` en nombre d'appels de `avancer_files` à effectuer.      \n",
    "Il suffit donc d'incrémenter un compteur que l'on renverra si `but` est atteint, on choisit de renvoyer -1 sinon. Il faut faire attention au cas particulier où `but` est égal à `init`, on doit renvoyer 0.    \n",
    "\n",
    "## Culture\n",
    "Sans le dire, l'énoncé vous fait implémenter un BFS (Breadth-First Search), l'algorithme de parcours en largeur d'un graphe. Ici les noeuds du graphe sont les configurations et les arêtes sont données par `avancer_files` depuis chaque noeud. Voir: https://en.wikipedia.org/wiki/Breadth-first_search"
   ]
  },
  {
   "cell_type": "code",
   "execution_count": 68,
   "metadata": {
    "collapsed": true
   },
   "outputs": [],
   "source": [
    "def recherche(but,init):\n",
    "    if init == but:\n",
    "        return True,0\n",
    "    \n",
    "    espace = [init]\n",
    "    stop = False\n",
    "\n",
    "    nb_etapes = 0\n",
    "    \n",
    "    while not stop:\n",
    "        ancien = espace\n",
    "        espace = espace + successeurs(espace)\n",
    "        espace.sort()\n",
    "        espace = elim_double(espace)\n",
    "        stop = egal(ancien,espace)\n",
    "        \n",
    "        nb_etapes += 1\n",
    "        if but in espace:\n",
    "            return True,nb_etapes\n",
    "    \n",
    "    return False,-1\n",
    "\n",
    "def successeurs(L):\n",
    "    res = []\n",
    "    for x in L:\n",
    "        L1 = x[0]\n",
    "        L2 = x[1]\n",
    "        res.append(avancer_files(L1,False,L2,False))\n",
    "        res.append(avancer_files(L1,False,L2,True))\n",
    "        res.append(avancer_files(L1,True,L2,False))\n",
    "        res.append(avancer_files(L1,True,L2,True))\n",
    "    return res"
   ]
  }
 ],
 "metadata": {
  "kernelspec": {
   "display_name": "Python 3",
   "language": "python",
   "name": "python3"
  },
  "language_info": {
   "codemirror_mode": {
    "name": "ipython",
    "version": 3
   },
   "file_extension": ".py",
   "mimetype": "text/x-python",
   "name": "python",
   "nbconvert_exporter": "python",
   "pygments_lexer": "ipython3",
   "version": "3.6.4"
  }
 },
 "nbformat": 4,
 "nbformat_minor": 2
}
